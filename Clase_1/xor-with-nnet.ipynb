{
 "cells": [
  {
   "cell_type": "markdown",
   "metadata": {},
   "source": [
    "## XOR with Neural Networks "
   ]
  },
  {
   "cell_type": "markdown",
   "metadata": {},
   "source": [
    "| X1 | X2 | y = X1 XOR X2 |\n",
    "| -- | -- | -- |\n",
    "| 0 | 0 | 0 |\n",
    "| 0 | 1 | 1 |\n",
    "| 1 | 0 | 1 |\n",
    "| 1 | 1 | 0 |\n",
    "\n",
    "\n"
   ]
  },
  {
   "cell_type": "code",
   "execution_count": 1,
   "metadata": {},
   "outputs": [],
   "source": [
    "import random\n",
    "import math\n",
    "import matplotlib.pyplot as plt"
   ]
  },
  {
   "cell_type": "code",
   "execution_count": 20,
   "metadata": {},
   "outputs": [],
   "source": [
    "#Input matrix X\n",
    "X = [[0,0],[0,1],[1,0],[1,1]]\n",
    "\n",
    "#Output vector y\n",
    "y = [[0],[1],[1],[0]]\n"
   ]
  },
  {
   "cell_type": "code",
   "execution_count": 10,
   "metadata": {},
   "outputs": [],
   "source": [
    "# Defino funcion sigmoid\n",
    "def sigmoid(Z): # Z es la matriz de Zi\n",
    "    Z= 1/(1+ math.exp(-Z))\n",
    "    return Z"
   ]
  },
  {
   "cell_type": "code",
   "execution_count": 23,
   "metadata": {},
   "outputs": [],
   "source": [
    "\n",
    "def SGD(X,y, n_epochs=100, alpha=0.01):\n",
    "    n_epochs = n_epochs\n",
    "    alpha = alpha\n",
    "    # Paso 1 - Inicializar w y b con distribución U(0,1) e hiperparámetros\n",
    "    w11_1 = random.uniform(0,20) \n",
    "    w12_1 = random.uniform(0,20)\n",
    "    w21_1 = random.uniform(0,20) \n",
    "    w22_1 = random.uniform(0,20)\n",
    "    b1_1 = random.uniform(0,20)\n",
    "    b2_1 = random.uniform(0,20)\n",
    "    w11_2 = random.uniform(0,20)\n",
    "    w12_2 = random.uniform(0,20)\n",
    "    b1_2 = random.uniform(0,20)\n",
    "    \n",
    "    #Z_1 = np.zeros((4,2))\n",
    "    Z_1 = [[0,0], [0,0], [0,0], [0,0]]\n",
    "    Z_2 = [[0],[0],[0],[0]]\n",
    "    A_1 = [[0,0], [0,0], [0,0], [0,0]]\n",
    "    y_pred = [[0],[0],[0],[0]]\n",
    "    MSE=[] # Acá voy ir guardando los MSE para cada Epoch\n",
    "\n",
    "\n",
    "    for epoch in range(n_epochs):\n",
    "        err = [[0],[0],[0],[0]]\n",
    "        err_2 = 0\n",
    "        for i in range(len(X)): \n",
    "            \n",
    "            # Step1: Forward Propagation\n",
    "            Z_1[i][0] = w11_1 * X[i][0] + w12_1 * X[i][1] + b1_1\n",
    "            Z_1[i][1] = w21_1 * X[i][0] + w22_1 * X[i][1] + b2_1\n",
    "            \n",
    "            A_1[i][0] = sigmoid(Z_1[i][0])\n",
    "            A_1[i][1] = sigmoid(Z_1[i][1])\n",
    "            Z_2[i][0] = w11_2 * A_1[i][0] + w12_2 * A_1[i][1] + b2_1\n",
    "            \n",
    "            # Step2: Loss function\n",
    "            y_pred[i][0]=Z_2[i][0]\n",
    "            err[i][0]=(y[i][0] - y_pred[i][0])\n",
    "            err_2 += (err[i][0])**2\n",
    "\n",
    "            #Step 3: Backpropagation\n",
    "\n",
    "            #Derivadas parámetros Layer2\n",
    "            dw11_2 = -2 * err[i][0] * A_1[i][0]\n",
    "            dw12_2 = -2 * err[i][0] * A_1[i][1]\n",
    "            db1_2 = -2 * (err[i][0])\n",
    "\n",
    "            #Derivadas parámetros Layer2\n",
    "            dw11_1 = -2 * err[i][0] * w11_2 * sigmoid(Z_1[i][0]) * (1 - sigmoid(Z_1[i][0])) * X[i][0]\n",
    "            dw12_1 = -2 * err[i][0] * w11_2 * sigmoid(Z_1[i][0]) * (1 - sigmoid(Z_1[i][0])) * X[i][1]\n",
    "            db1_1 = -2 * err[i][0] * w11_2 * sigmoid(Z_1[i][0]) * (1 - sigmoid(Z_1[i][0]))\n",
    "            dw21_1 = -2 * err[i][0] * w12_2 * sigmoid(Z_1[i][1]) * (1 - sigmoid(Z_1[i][1])) * X[i][0]\n",
    "            dw22_1 = -2 * err[i][0] * w12_2 * sigmoid(Z_1[i][1]) * (1 - sigmoid(Z_1[i][1])) * X[i][1]\n",
    "            db2_1 = -2 * err[i][0] * w12_2 * sigmoid(Z_1[i][1]) * (1 - sigmoid(Z_1[i][1]))\n",
    "\n",
    "            #Step4: Actualización de los pesos\n",
    "            \n",
    "            #Layer 2 \n",
    "            w11_2 -= alpha * dw11_2\n",
    "            w12_2 -= alpha * dw12_2\n",
    "            b1_2 -= alpha * db1_2\n",
    "            #Layer 1\n",
    "            w11_1 -=  alpha * dw11_1\n",
    "            w12_1 -= alpha * dw12_1\n",
    "            b1_1 -= alpha * db1_1\n",
    "            w21_1 -=  alpha * dw21_1\n",
    "            w22_1 -= alpha * dw22_1\n",
    "            b2_1 -= alpha * db2_1\n",
    "           \n",
    "        MSE.append(err_2/4) # Luego graficar MSE vs Epochs\n",
    "    return MSE"
   ]
  },
  {
   "cell_type": "code",
   "execution_count": 24,
   "metadata": {},
   "outputs": [],
   "source": [
    "#Pruebo con n_epochs=100 y alpha=0.01)\n",
    "MSE = SGD(X,y,n_epochs=100, alpha=0.01)"
   ]
  },
  {
   "cell_type": "code",
   "execution_count": 19,
   "metadata": {},
   "outputs": [
    {
     "data": {
      "text/plain": [
       "Text(0, 0.5, 'MSE')"
      ]
     },
     "execution_count": 19,
     "metadata": {},
     "output_type": "execute_result"
    },
    {
     "data": {
      "image/png": "[encoded data removed]",
      "text/plain": [
       "<Figure size 432x288 with 1 Axes>"
      ]
     },
     "metadata": {
      "needs_background": "light"
     },
     "output_type": "display_data"
    }
   ],
   "source": [
    "# Grafico MSE en función de las Epochs\n",
    "plt.plot(MSE)\n",
    "plt.xlabel(\"Epochs\")\n",
    "plt.ylabel(\"MSE\")"
   ]
  }
 ],
 "metadata": {
  "interpreter": {
   "hash": "aee8b7b246df8f9039afb4144a1f6fd8d2ca17a180786b69acc140d282b71a49"
  },
  "kernelspec": {
   "display_name": "Python 3.10.2 64-bit",
   "language": "python",
   "name": "python3"
  },
  "language_info": {
   "codemirror_mode": {
    "name": "ipython",
    "version": 3
   },
   "file_extension": ".py",
   "mimetype": "text/x-python",
   "name": "python",
   "nbconvert_exporter": "python",
   "pygments_lexer": "ipython3",
   "version": "3.10.2"
  },
  "orig_nbformat": 4
 },
 "nbformat": 4,
 "nbformat_minor": 2
}
