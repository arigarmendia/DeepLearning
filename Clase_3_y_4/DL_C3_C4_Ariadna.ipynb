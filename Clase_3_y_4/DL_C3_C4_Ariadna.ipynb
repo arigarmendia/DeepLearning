{
  "nbformat": 4,
  "nbformat_minor": 0,
  "metadata": {
    "colab": {
      "name": "DL_C3_C4_Ariadna.ipynb",
      "provenance": [],
      "collapsed_sections": []
    },
    "kernelspec": {
      "name": "python3",
      "display_name": "Python 3"
    },
    "language_info": {
      "name": "python"
    },
    "accelerator": "GPU",
    "gpuClass": "standard"
  },
  "cells": [
    {
      "cell_type": "code",
      "source": [
        "from google.colab import drive\n",
        "drive.mount('/content/drive')"
      ],
      "metadata": {
        "colab": {
          "base_uri": "https://localhost:8080/"
        },
        "id": "HdM4NWv2gJQk",
        "outputId": "12722878-52d3-4e5f-8ee7-498e27d04ba0"
      },
      "execution_count": 129,
      "outputs": [
        {
          "output_type": "stream",
          "name": "stdout",
          "text": [
            "Drive already mounted at /content/drive; to attempt to forcibly remount, call drive.mount(\"/content/drive\", force_remount=True).\n"
          ]
        }
      ]
    },
    {
      "cell_type": "code",
      "execution_count": 130,
      "metadata": {
        "id": "tRGoyK_dAJAN"
      },
      "outputs": [],
      "source": [
        "import pandas as pd\n",
        "df = pd.read_csv('/content/drive/MyDrive/2022/DeepLearning/dataset_wine.csv')"
      ]
    },
    {
      "cell_type": "code",
      "source": [
        "len(df) # cantidad de filas"
      ],
      "metadata": {
        "colab": {
          "base_uri": "https://localhost:8080/"
        },
        "id": "KII75g_CA2FV",
        "outputId": "5f598f6e-f4ca-4a8f-c299-ab35037d67a9"
      },
      "execution_count": 131,
      "outputs": [
        {
          "output_type": "execute_result",
          "data": {
            "text/plain": [
              "6497"
            ]
          },
          "metadata": {},
          "execution_count": 131
        }
      ]
    },
    {
      "cell_type": "code",
      "source": [
        "df.info()"
      ],
      "metadata": {
        "colab": {
          "base_uri": "https://localhost:8080/"
        },
        "id": "-DwTipsfBKiU",
        "outputId": "eaf118fe-d3c2-48bf-b8a5-ffbb8b596e1e"
      },
      "execution_count": 132,
      "outputs": [
        {
          "output_type": "stream",
          "name": "stdout",
          "text": [
            "<class 'pandas.core.frame.DataFrame'>\n",
            "RangeIndex: 6497 entries, 0 to 6496\n",
            "Data columns (total 15 columns):\n",
            " #   Column                Non-Null Count  Dtype  \n",
            "---  ------                --------------  -----  \n",
            " 0   Unnamed: 0            6497 non-null   int64  \n",
            " 1   type                  6497 non-null   object \n",
            " 2   fixed acidity         6487 non-null   float64\n",
            " 3   volatile acidity      6489 non-null   float64\n",
            " 4   citric acid           6494 non-null   float64\n",
            " 5   residual sugar        6495 non-null   float64\n",
            " 6   chlorides             6495 non-null   float64\n",
            " 7   free sulfur dioxide   6497 non-null   float64\n",
            " 8   total sulfur dioxide  6497 non-null   float64\n",
            " 9   density               6497 non-null   float64\n",
            " 10  pH                    6488 non-null   float64\n",
            " 11  sulphates             6493 non-null   float64\n",
            " 12  alcohol               6497 non-null   float64\n",
            " 13  quality               6497 non-null   int64  \n",
            " 14  vendor_id             6497 non-null   int64  \n",
            "dtypes: float64(11), int64(3), object(1)\n",
            "memory usage: 761.5+ KB\n"
          ]
        }
      ]
    },
    {
      "cell_type": "code",
      "source": [
        "print(df.head())"
      ],
      "metadata": {
        "colab": {
          "base_uri": "https://localhost:8080/"
        },
        "id": "m2DAOPQwBM3a",
        "outputId": "f6f3267c-dec8-4f6f-ca5f-9ddcc23c0eac"
      },
      "execution_count": 133,
      "outputs": [
        {
          "output_type": "stream",
          "name": "stdout",
          "text": [
            "   Unnamed: 0   type  fixed acidity  volatile acidity  citric acid  \\\n",
            "0           0  white            7.0              0.27         0.36   \n",
            "1           1  white            6.3              0.30         0.34   \n",
            "2           2  white            8.1              0.28         0.40   \n",
            "3           3  white            7.2              0.23         0.32   \n",
            "4           4  white            7.2              0.23         0.32   \n",
            "\n",
            "   residual sugar  chlorides  free sulfur dioxide  total sulfur dioxide  \\\n",
            "0            20.7      0.045                 45.0                 170.0   \n",
            "1             1.6      0.049                 14.0                 132.0   \n",
            "2             6.9      0.050                 30.0                  97.0   \n",
            "3             8.5      0.058                 47.0                 186.0   \n",
            "4             8.5      0.058                 47.0                 186.0   \n",
            "\n",
            "   density    pH  sulphates  alcohol  quality  vendor_id  \n",
            "0   1.0010  3.00       0.45      8.8        6        369  \n",
            "1   0.9940  3.30       0.49      9.5        6        361  \n",
            "2   0.9951  3.26       0.44     10.1        6        354  \n",
            "3   0.9956  3.19       0.40      9.9        6        325  \n",
            "4   0.9956  3.19       0.40      9.9        6        375  \n"
          ]
        }
      ]
    },
    {
      "cell_type": "code",
      "source": [
        "import numpy as np\n",
        "import torch\n",
        "import matplotlib.pyplot as plt\n",
        "from sklearn import preprocessing\n",
        "from scipy import stats"
      ],
      "metadata": {
        "id": "iGXt_8GFBlpm"
      },
      "execution_count": 134,
      "outputs": []
    },
    {
      "cell_type": "code",
      "source": [
        "print(np.min(df.quality))\n",
        "print(np.max(df.quality))"
      ],
      "metadata": {
        "colab": {
          "base_uri": "https://localhost:8080/"
        },
        "id": "NZGRUWXzBt2v",
        "outputId": "50dc9fd5-05c2-44f2-a0e3-22b870be28bb"
      },
      "execution_count": 135,
      "outputs": [
        {
          "output_type": "stream",
          "name": "stdout",
          "text": [
            "3\n",
            "9\n"
          ]
        }
      ]
    },
    {
      "cell_type": "code",
      "source": [
        "quality = df.quality.to_numpy()\n",
        "fix, ax1 = plt.subplots(1,1)\n",
        "ax1.hist(quality)"
      ],
      "metadata": {
        "colab": {
          "base_uri": "https://localhost:8080/",
          "height": 336
        },
        "id": "phs_G-OeCFGZ",
        "outputId": "031bca73-b3b1-4ffb-a825-3e09b49d5ada"
      },
      "execution_count": 136,
      "outputs": [
        {
          "output_type": "execute_result",
          "data": {
            "text/plain": [
              "(array([  30.,  216.,    0., 2138.,    0., 2836., 1079.,    0.,  193.,\n",
              "           5.]),\n",
              " array([3. , 3.6, 4.2, 4.8, 5.4, 6. , 6.6, 7.2, 7.8, 8.4, 9. ]),\n",
              " <a list of 10 Patch objects>)"
            ]
          },
          "metadata": {},
          "execution_count": 136
        },
        {
          "output_type": "display_data",
          "data": {
            "text/plain": [
              "<Figure size 432x288 with 1 Axes>"
            ],
            "image/png": "[encoded data removed]"
          },
          "metadata": {
            "needs_background": "light"
          }
        }
      ]
    },
    {
      "cell_type": "code",
      "source": [
        "df[\"quality_label\"] = df.quality.apply(lambda label: 0 if label <= 6 else 1)\n",
        "print(len(df[df[\"quality_label\"] == 0])) # bad quality \n",
        "print(len(df[df[\"quality_label\"] == 1])) # good quality"
      ],
      "metadata": {
        "colab": {
          "base_uri": "https://localhost:8080/"
        },
        "id": "FxAaiN5qByyu",
        "outputId": "d626b1ca-8820-4351-db57-fdb67e4cb6e9"
      },
      "execution_count": 137,
      "outputs": [
        {
          "output_type": "stream",
          "name": "stdout",
          "text": [
            "5220\n",
            "1277\n"
          ]
        }
      ]
    },
    {
      "cell_type": "code",
      "source": [
        "# clasificación binaria -> modelo tonto -> siempre devolver la clase mayoritaria\n",
        "# regresion -> modelo totno -> siempre devolver el promedio de tu salida"
      ],
      "metadata": {
        "id": "YOHKjGkECuMP"
      },
      "execution_count": 138,
      "outputs": []
    },
    {
      "cell_type": "markdown",
      "source": [
        "## Ingeniería de features"
      ],
      "metadata": {
        "id": "PzoEyU2lDwje"
      }
    },
    {
      "cell_type": "code",
      "source": [
        "df.info()"
      ],
      "metadata": {
        "colab": {
          "base_uri": "https://localhost:8080/"
        },
        "id": "xb-rkWybDy4P",
        "outputId": "8e48ddd4-4a3a-40eb-ab5b-abd603d0326a"
      },
      "execution_count": 139,
      "outputs": [
        {
          "output_type": "stream",
          "name": "stdout",
          "text": [
            "<class 'pandas.core.frame.DataFrame'>\n",
            "RangeIndex: 6497 entries, 0 to 6496\n",
            "Data columns (total 16 columns):\n",
            " #   Column                Non-Null Count  Dtype  \n",
            "---  ------                --------------  -----  \n",
            " 0   Unnamed: 0            6497 non-null   int64  \n",
            " 1   type                  6497 non-null   object \n",
            " 2   fixed acidity         6487 non-null   float64\n",
            " 3   volatile acidity      6489 non-null   float64\n",
            " 4   citric acid           6494 non-null   float64\n",
            " 5   residual sugar        6495 non-null   float64\n",
            " 6   chlorides             6495 non-null   float64\n",
            " 7   free sulfur dioxide   6497 non-null   float64\n",
            " 8   total sulfur dioxide  6497 non-null   float64\n",
            " 9   density               6497 non-null   float64\n",
            " 10  pH                    6488 non-null   float64\n",
            " 11  sulphates             6493 non-null   float64\n",
            " 12  alcohol               6497 non-null   float64\n",
            " 13  quality               6497 non-null   int64  \n",
            " 14  vendor_id             6497 non-null   int64  \n",
            " 15  quality_label         6497 non-null   int64  \n",
            "dtypes: float64(11), int64(4), object(1)\n",
            "memory usage: 812.2+ KB\n"
          ]
        }
      ]
    },
    {
      "cell_type": "code",
      "source": [
        "# Analicemos la variable tipo\n",
        "print(df[\"type\"].unique())\n",
        "type_dummies = pd.get_dummies(df[\"type\"], prefix=\"type\") # -> one hot encoding\n",
        "type_dummies.info() \n",
        "\n",
        "# concatenar esta representación del type al dataset original\n",
        "dataset = pd.concat([df, type_dummies], axis=1)\n",
        "dataset.info()"
      ],
      "metadata": {
        "colab": {
          "base_uri": "https://localhost:8080/"
        },
        "id": "7flcpT4WEDqg",
        "outputId": "5c8586a0-6847-44f7-fa13-6d6775d0abc7"
      },
      "execution_count": 140,
      "outputs": [
        {
          "output_type": "stream",
          "name": "stdout",
          "text": [
            "['white' 'red']\n",
            "<class 'pandas.core.frame.DataFrame'>\n",
            "RangeIndex: 6497 entries, 0 to 6496\n",
            "Data columns (total 2 columns):\n",
            " #   Column      Non-Null Count  Dtype\n",
            "---  ------      --------------  -----\n",
            " 0   type_red    6497 non-null   uint8\n",
            " 1   type_white  6497 non-null   uint8\n",
            "dtypes: uint8(2)\n",
            "memory usage: 12.8 KB\n",
            "<class 'pandas.core.frame.DataFrame'>\n",
            "RangeIndex: 6497 entries, 0 to 6496\n",
            "Data columns (total 18 columns):\n",
            " #   Column                Non-Null Count  Dtype  \n",
            "---  ------                --------------  -----  \n",
            " 0   Unnamed: 0            6497 non-null   int64  \n",
            " 1   type                  6497 non-null   object \n",
            " 2   fixed acidity         6487 non-null   float64\n",
            " 3   volatile acidity      6489 non-null   float64\n",
            " 4   citric acid           6494 non-null   float64\n",
            " 5   residual sugar        6495 non-null   float64\n",
            " 6   chlorides             6495 non-null   float64\n",
            " 7   free sulfur dioxide   6497 non-null   float64\n",
            " 8   total sulfur dioxide  6497 non-null   float64\n",
            " 9   density               6497 non-null   float64\n",
            " 10  pH                    6488 non-null   float64\n",
            " 11  sulphates             6493 non-null   float64\n",
            " 12  alcohol               6497 non-null   float64\n",
            " 13  quality               6497 non-null   int64  \n",
            " 14  vendor_id             6497 non-null   int64  \n",
            " 15  quality_label         6497 non-null   int64  \n",
            " 16  type_red              6497 non-null   uint8  \n",
            " 17  type_white            6497 non-null   uint8  \n",
            "dtypes: float64(11), int64(4), object(1), uint8(2)\n",
            "memory usage: 824.9+ KB\n"
          ]
        }
      ]
    },
    {
      "cell_type": "code",
      "source": [
        "# Analicemos la vendor_id\n",
        "print(len(dataset[\"vendor_id\"].unique())) # -> embeddings"
      ],
      "metadata": {
        "colab": {
          "base_uri": "https://localhost:8080/"
        },
        "id": "vtKdw58tEORZ",
        "outputId": "e5009b97-9d22-41dd-fffa-9e60e6a498ab"
      },
      "execution_count": 141,
      "outputs": [
        {
          "output_type": "stream",
          "name": "stdout",
          "text": [
            "500\n"
          ]
        }
      ]
    },
    {
      "cell_type": "code",
      "source": [
        ""
      ],
      "metadata": {
        "id": "dMwKiCmNFSSe"
      },
      "execution_count": 141,
      "outputs": []
    },
    {
      "cell_type": "markdown",
      "source": [
        "# Limpiar el dataset removiendo nans"
      ],
      "metadata": {
        "id": "y-8seDrIGuGr"
      }
    },
    {
      "cell_type": "code",
      "source": [
        "nans = dataset[dataset.isna().sum(axis=1) >= 1]\n",
        "print(nans.shape)"
      ],
      "metadata": {
        "colab": {
          "base_uri": "https://localhost:8080/"
        },
        "id": "L15QLFCnGwEb",
        "outputId": "287940e1-9e75-43e1-fedd-e97c4eca7539"
      },
      "execution_count": 142,
      "outputs": [
        {
          "output_type": "stream",
          "name": "stdout",
          "text": [
            "(34, 18)\n"
          ]
        }
      ]
    },
    {
      "cell_type": "code",
      "source": [
        "dataset = dataset[dataset.isna().sum(axis=1) == 0]\n",
        "print(dataset.shape)"
      ],
      "metadata": {
        "colab": {
          "base_uri": "https://localhost:8080/"
        },
        "id": "RT1EvF9RHFHn",
        "outputId": "3890f860-12a5-471b-fa45-983c60b1da46"
      },
      "execution_count": 143,
      "outputs": [
        {
          "output_type": "stream",
          "name": "stdout",
          "text": [
            "(6463, 18)\n"
          ]
        }
      ]
    },
    {
      "cell_type": "code",
      "source": [
        "y = dataset[\"quality_label\"]\n",
        "vendor_id = dataset[\"vendor_id\"]\n",
        "X = dataset.drop([\"Unnamed: 0\", \"type\", \"quality\", \"quality_label\", \"vendor_id\"], axis=1)\n"
      ],
      "metadata": {
        "id": "vVA38HoBHbqS"
      },
      "execution_count": 144,
      "outputs": []
    },
    {
      "cell_type": "code",
      "source": [
        ""
      ],
      "metadata": {
        "id": "1ID6WuAmIsL-"
      },
      "execution_count": 144,
      "outputs": []
    },
    {
      "cell_type": "markdown",
      "source": [
        "## Normalización"
      ],
      "metadata": {
        "id": "xuuiz94jL95V"
      }
    },
    {
      "cell_type": "code",
      "source": [
        "X_norm = (X - np.min(X, axis=0)) / (np.max(X, axis=0) - np.min(X, axis=0))"
      ],
      "metadata": {
        "id": "4ZziRQRGL_fN"
      },
      "execution_count": 145,
      "outputs": []
    },
    {
      "cell_type": "code",
      "source": [
        "print(np.min(X_norm, axis=0))\n",
        "print(np.max(X_norm, axis=0))"
      ],
      "metadata": {
        "colab": {
          "base_uri": "https://localhost:8080/"
        },
        "id": "heiUcF4-OeKI",
        "outputId": "839133dc-a8a1-4e19-e8cc-c9ebc0f8d3ad"
      },
      "execution_count": 146,
      "outputs": [
        {
          "output_type": "stream",
          "name": "stdout",
          "text": [
            "fixed acidity           0.0\n",
            "volatile acidity        0.0\n",
            "citric acid             0.0\n",
            "residual sugar          0.0\n",
            "chlorides               0.0\n",
            "free sulfur dioxide     0.0\n",
            "total sulfur dioxide    0.0\n",
            "density                 0.0\n",
            "pH                      0.0\n",
            "sulphates               0.0\n",
            "alcohol                 0.0\n",
            "type_red                0.0\n",
            "type_white              0.0\n",
            "dtype: float64\n",
            "fixed acidity           1.0\n",
            "volatile acidity        1.0\n",
            "citric acid             1.0\n",
            "residual sugar          1.0\n",
            "chlorides               1.0\n",
            "free sulfur dioxide     1.0\n",
            "total sulfur dioxide    1.0\n",
            "density                 1.0\n",
            "pH                      1.0\n",
            "sulphates               1.0\n",
            "alcohol                 1.0\n",
            "type_red                1.0\n",
            "type_white              1.0\n",
            "dtype: float64\n"
          ]
        }
      ]
    },
    {
      "cell_type": "code",
      "source": [
        "X_norm.describe()"
      ],
      "metadata": {
        "colab": {
          "base_uri": "https://localhost:8080/",
          "height": 362
        },
        "id": "ik1CR2FtOqzI",
        "outputId": "84efa470-7a9a-4d19-a530-2a8318eb51de"
      },
      "execution_count": 147,
      "outputs": [
        {
          "output_type": "execute_result",
          "data": {
            "text/plain": [
              "       fixed acidity  volatile acidity  citric acid  residual sugar  \\\n",
              "count    6463.000000       6463.000000  6463.000000     6463.000000   \n",
              "mean        0.282459          0.173059     0.192023        0.074294   \n",
              "std         0.107266          0.109759     0.087501        0.072958   \n",
              "min         0.000000          0.000000     0.000000        0.000000   \n",
              "25%         0.214876          0.100000     0.150602        0.018405   \n",
              "50%         0.264463          0.140000     0.186747        0.036810   \n",
              "75%         0.322314          0.213333     0.234940        0.115031   \n",
              "max         1.000000          1.000000     1.000000        1.000000   \n",
              "\n",
              "         chlorides  free sulfur dioxide  total sulfur dioxide      density  \\\n",
              "count  6463.000000          6463.000000           6463.000000  6463.000000   \n",
              "mean      0.078166             0.102489              0.252752     0.146283   \n",
              "std       0.058265             0.061663              0.130246     0.057865   \n",
              "min       0.000000             0.000000              0.000000     0.000000   \n",
              "25%       0.048173             0.055556              0.163594     0.100636   \n",
              "50%       0.063123             0.097222              0.258065     0.149990   \n",
              "75%       0.093023             0.138889              0.345622     0.190669   \n",
              "max       1.000000             1.000000              1.000000     1.000000   \n",
              "\n",
              "                pH    sulphates      alcohol     type_red   type_white  \n",
              "count  6463.000000  6463.000000  6463.000000  6463.000000  6463.000000  \n",
              "mean      0.386304     0.174803     0.361279     0.246480     0.753520  \n",
              "std       0.124535     0.083659     0.172917     0.430995     0.430995  \n",
              "min       0.000000     0.000000     0.000000     0.000000     0.000000  \n",
              "25%       0.302326     0.117978     0.217391     0.000000     1.000000  \n",
              "50%       0.379845     0.162921     0.333333     0.000000     1.000000  \n",
              "75%       0.465116     0.213483     0.478261     0.000000     1.000000  \n",
              "max       1.000000     1.000000     1.000000     1.000000     1.000000  "
            ],
            "text/html": [
              "\n",
              "  <div id=\"df-614937bc-e43c-413c-bfe8-5cd8f064a852\">\n",
              "    <div class=\"colab-df-container\">\n",
              "      <div>\n",
              "<style scoped>\n",
              "    .dataframe tbody tr th:only-of-type {\n",
              "        vertical-align: middle;\n",
              "    }\n",
              "\n",
              "    .dataframe tbody tr th {\n",
              "        vertical-align: top;\n",
              "    }\n",
              "\n",
              "    .dataframe thead th {\n",
              "        text-align: right;\n",
              "    }\n",
              "</style>\n",
              "<table border=\"1\" class=\"dataframe\">\n",
              "  <thead>\n",
              "    <tr style=\"text-align: right;\">\n",
              "      <th></th>\n",
              "      <th>fixed acidity</th>\n",
              "      <th>volatile acidity</th>\n",
              "      <th>citric acid</th>\n",
              "      <th>residual sugar</th>\n",
              "      <th>chlorides</th>\n",
              "      <th>free sulfur dioxide</th>\n",
              "      <th>total sulfur dioxide</th>\n",
              "      <th>density</th>\n",
              "      <th>pH</th>\n",
              "      <th>sulphates</th>\n",
              "      <th>alcohol</th>\n",
              "      <th>type_red</th>\n",
              "      <th>type_white</th>\n",
              "    </tr>\n",
              "  </thead>\n",
              "  <tbody>\n",
              "    <tr>\n",
              "      <th>count</th>\n",
              "      <td>6463.000000</td>\n",
              "      <td>6463.000000</td>\n",
              "      <td>6463.000000</td>\n",
              "      <td>6463.000000</td>\n",
              "      <td>6463.000000</td>\n",
              "      <td>6463.000000</td>\n",
              "      <td>6463.000000</td>\n",
              "      <td>6463.000000</td>\n",
              "      <td>6463.000000</td>\n",
              "      <td>6463.000000</td>\n",
              "      <td>6463.000000</td>\n",
              "      <td>6463.000000</td>\n",
              "      <td>6463.000000</td>\n",
              "    </tr>\n",
              "    <tr>\n",
              "      <th>mean</th>\n",
              "      <td>0.282459</td>\n",
              "      <td>0.173059</td>\n",
              "      <td>0.192023</td>\n",
              "      <td>0.074294</td>\n",
              "      <td>0.078166</td>\n",
              "      <td>0.102489</td>\n",
              "      <td>0.252752</td>\n",
              "      <td>0.146283</td>\n",
              "      <td>0.386304</td>\n",
              "      <td>0.174803</td>\n",
              "      <td>0.361279</td>\n",
              "      <td>0.246480</td>\n",
              "      <td>0.753520</td>\n",
              "    </tr>\n",
              "    <tr>\n",
              "      <th>std</th>\n",
              "      <td>0.107266</td>\n",
              "      <td>0.109759</td>\n",
              "      <td>0.087501</td>\n",
              "      <td>0.072958</td>\n",
              "      <td>0.058265</td>\n",
              "      <td>0.061663</td>\n",
              "      <td>0.130246</td>\n",
              "      <td>0.057865</td>\n",
              "      <td>0.124535</td>\n",
              "      <td>0.083659</td>\n",
              "      <td>0.172917</td>\n",
              "      <td>0.430995</td>\n",
              "      <td>0.430995</td>\n",
              "    </tr>\n",
              "    <tr>\n",
              "      <th>min</th>\n",
              "      <td>0.000000</td>\n",
              "      <td>0.000000</td>\n",
              "      <td>0.000000</td>\n",
              "      <td>0.000000</td>\n",
              "      <td>0.000000</td>\n",
              "      <td>0.000000</td>\n",
              "      <td>0.000000</td>\n",
              "      <td>0.000000</td>\n",
              "      <td>0.000000</td>\n",
              "      <td>0.000000</td>\n",
              "      <td>0.000000</td>\n",
              "      <td>0.000000</td>\n",
              "      <td>0.000000</td>\n",
              "    </tr>\n",
              "    <tr>\n",
              "      <th>25%</th>\n",
              "      <td>0.214876</td>\n",
              "      <td>0.100000</td>\n",
              "      <td>0.150602</td>\n",
              "      <td>0.018405</td>\n",
              "      <td>0.048173</td>\n",
              "      <td>0.055556</td>\n",
              "      <td>0.163594</td>\n",
              "      <td>0.100636</td>\n",
              "      <td>0.302326</td>\n",
              "      <td>0.117978</td>\n",
              "      <td>0.217391</td>\n",
              "      <td>0.000000</td>\n",
              "      <td>1.000000</td>\n",
              "    </tr>\n",
              "    <tr>\n",
              "      <th>50%</th>\n",
              "      <td>0.264463</td>\n",
              "      <td>0.140000</td>\n",
              "      <td>0.186747</td>\n",
              "      <td>0.036810</td>\n",
              "      <td>0.063123</td>\n",
              "      <td>0.097222</td>\n",
              "      <td>0.258065</td>\n",
              "      <td>0.149990</td>\n",
              "      <td>0.379845</td>\n",
              "      <td>0.162921</td>\n",
              "      <td>0.333333</td>\n",
              "      <td>0.000000</td>\n",
              "      <td>1.000000</td>\n",
              "    </tr>\n",
              "    <tr>\n",
              "      <th>75%</th>\n",
              "      <td>0.322314</td>\n",
              "      <td>0.213333</td>\n",
              "      <td>0.234940</td>\n",
              "      <td>0.115031</td>\n",
              "      <td>0.093023</td>\n",
              "      <td>0.138889</td>\n",
              "      <td>0.345622</td>\n",
              "      <td>0.190669</td>\n",
              "      <td>0.465116</td>\n",
              "      <td>0.213483</td>\n",
              "      <td>0.478261</td>\n",
              "      <td>0.000000</td>\n",
              "      <td>1.000000</td>\n",
              "    </tr>\n",
              "    <tr>\n",
              "      <th>max</th>\n",
              "      <td>1.000000</td>\n",
              "      <td>1.000000</td>\n",
              "      <td>1.000000</td>\n",
              "      <td>1.000000</td>\n",
              "      <td>1.000000</td>\n",
              "      <td>1.000000</td>\n",
              "      <td>1.000000</td>\n",
              "      <td>1.000000</td>\n",
              "      <td>1.000000</td>\n",
              "      <td>1.000000</td>\n",
              "      <td>1.000000</td>\n",
              "      <td>1.000000</td>\n",
              "      <td>1.000000</td>\n",
              "    </tr>\n",
              "  </tbody>\n",
              "</table>\n",
              "</div>\n",
              "      <button class=\"colab-df-convert\" onclick=\"convertToInteractive('df-614937bc-e43c-413c-bfe8-5cd8f064a852')\"\n",
              "              title=\"Convert this dataframe to an interactive table.\"\n",
              "              style=\"display:none;\">\n",
              "        \n",
              "  <svg xmlns=\"http://www.w3.org/2000/svg\" height=\"24px\"viewBox=\"0 0 24 24\"\n",
              "       width=\"24px\">\n",
              "    <path d=\"M0 0h24v24H0V0z\" fill=\"none\"/>\n",
              "    <path d=\"M18.56 5.44l.94 2.06.94-2.06 2.06-.94-2.06-.94-.94-2.06-.94 2.06-2.06.94zm-11 1L8.5 8.5l.94-2.06 2.06-.94-2.06-.94L8.5 2.5l-.94 2.06-2.06.94zm10 10l.94 2.06.94-2.06 2.06-.94-2.06-.94-.94-2.06-.94 2.06-2.06.94z\"/><path d=\"M17.41 7.96l-1.37-1.37c-.4-.4-.92-.59-1.43-.59-.52 0-1.04.2-1.43.59L10.3 9.45l-7.72 7.72c-.78.78-.78 2.05 0 2.83L4 21.41c.39.39.9.59 1.41.59.51 0 1.02-.2 1.41-.59l7.78-7.78 2.81-2.81c.8-.78.8-2.07 0-2.86zM5.41 20L4 18.59l7.72-7.72 1.47 1.35L5.41 20z\"/>\n",
              "  </svg>\n",
              "      </button>\n",
              "      \n",
              "  <style>\n",
              "    .colab-df-container {\n",
              "      display:flex;\n",
              "      flex-wrap:wrap;\n",
              "      gap: 12px;\n",
              "    }\n",
              "\n",
              "    .colab-df-convert {\n",
              "      background-color: #E8F0FE;\n",
              "      border: none;\n",
              "      border-radius: 50%;\n",
              "      cursor: pointer;\n",
              "      display: none;\n",
              "      fill: #1967D2;\n",
              "      height: 32px;\n",
              "      padding: 0 0 0 0;\n",
              "      width: 32px;\n",
              "    }\n",
              "\n",
              "    .colab-df-convert:hover {\n",
              "      background-color: #E2EBFA;\n",
              "      box-shadow: 0px 1px 2px rgba(60, 64, 67, 0.3), 0px 1px 3px 1px rgba(60, 64, 67, 0.15);\n",
              "      fill: #174EA6;\n",
              "    }\n",
              "\n",
              "    [theme=dark] .colab-df-convert {\n",
              "      background-color: #3B4455;\n",
              "      fill: #D2E3FC;\n",
              "    }\n",
              "\n",
              "    [theme=dark] .colab-df-convert:hover {\n",
              "      background-color: #434B5C;\n",
              "      box-shadow: 0px 1px 3px 1px rgba(0, 0, 0, 0.15);\n",
              "      filter: drop-shadow(0px 1px 2px rgba(0, 0, 0, 0.3));\n",
              "      fill: #FFFFFF;\n",
              "    }\n",
              "  </style>\n",
              "\n",
              "      <script>\n",
              "        const buttonEl =\n",
              "          document.querySelector('#df-614937bc-e43c-413c-bfe8-5cd8f064a852 button.colab-df-convert');\n",
              "        buttonEl.style.display =\n",
              "          google.colab.kernel.accessAllowed ? 'block' : 'none';\n",
              "\n",
              "        async function convertToInteractive(key) {\n",
              "          const element = document.querySelector('#df-614937bc-e43c-413c-bfe8-5cd8f064a852');\n",
              "          const dataTable =\n",
              "            await google.colab.kernel.invokeFunction('convertToInteractive',\n",
              "                                                     [key], {});\n",
              "          if (!dataTable) return;\n",
              "\n",
              "          const docLinkHtml = 'Like what you see? Visit the ' +\n",
              "            '<a target=\"_blank\" href=https://colab.research.google.com/notebooks/data_table.ipynb>data table notebook</a>'\n",
              "            + ' to learn more about interactive tables.';\n",
              "          element.innerHTML = '';\n",
              "          dataTable['output_type'] = 'display_data';\n",
              "          await google.colab.output.renderOutput(dataTable, element);\n",
              "          const docLink = document.createElement('div');\n",
              "          docLink.innerHTML = docLinkHtml;\n",
              "          element.appendChild(docLink);\n",
              "        }\n",
              "      </script>\n",
              "    </div>\n",
              "  </div>\n",
              "  "
            ]
          },
          "metadata": {},
          "execution_count": 147
        }
      ]
    },
    {
      "cell_type": "code",
      "source": [
        ""
      ],
      "metadata": {
        "id": "F2zR1-ZoOx-L"
      },
      "execution_count": 147,
      "outputs": []
    },
    {
      "cell_type": "markdown",
      "source": [
        "# Split"
      ],
      "metadata": {
        "id": "9OVB0QPQPGUK"
      }
    },
    {
      "cell_type": "code",
      "source": [
        "X_norm = X_norm.to_numpy()\n",
        "y = y.to_numpy()\n",
        "n = X_norm.shape[0]\n",
        "print(n)\n",
        "idx = np.random.permutation(np.arange(0, n))\n",
        "train_idx = idx[0:int(0.85 * n)]\n",
        "valid_idx = idx[int(0.85 * n):]\n",
        "print(len(train_idx))\n",
        "print(len(valid_idx))\n",
        "\n",
        "# train -> entrenar tu modelo (80%)\n",
        "# valid -> encontrar los HPs (10%)\n",
        "# test -> calcular las metricas finales (10%)"
      ],
      "metadata": {
        "colab": {
          "base_uri": "https://localhost:8080/"
        },
        "id": "hHP6Qt2IPHiy",
        "outputId": "0ec45465-e9d1-4229-ed1b-22ec0e84bf19"
      },
      "execution_count": 148,
      "outputs": [
        {
          "output_type": "stream",
          "name": "stdout",
          "text": [
            "6463\n",
            "5493\n",
            "970\n"
          ]
        }
      ]
    },
    {
      "cell_type": "code",
      "source": [
        "X_train = X_norm[train_idx,:]\n",
        "y_train = y[train_idx]\n",
        "X_valid = X_norm[valid_idx,:]\n",
        "y_valid = y[valid_idx]\n",
        "\n",
        "print(X_train.shape)\n",
        "print(y_train.shape)\n",
        "print(X_valid.shape)\n",
        "print(y_valid.shape)"
      ],
      "metadata": {
        "colab": {
          "base_uri": "https://localhost:8080/"
        },
        "id": "AfhwVo_XPLuz",
        "outputId": "26d6a0be-bca3-4984-a7ca-9278fd6ce777"
      },
      "execution_count": 149,
      "outputs": [
        {
          "output_type": "stream",
          "name": "stdout",
          "text": [
            "(5493, 13)\n",
            "(5493,)\n",
            "(970, 13)\n",
            "(970,)\n"
          ]
        }
      ]
    },
    {
      "cell_type": "code",
      "source": [
        ""
      ],
      "metadata": {
        "id": "ai4u0en5PVE7"
      },
      "execution_count": 149,
      "outputs": []
    },
    {
      "cell_type": "markdown",
      "source": [
        "# NNet sin embeddings"
      ],
      "metadata": {
        "id": "29g8DEnCRC8o"
      }
    },
    {
      "cell_type": "code",
      "source": [
        "import torch\n",
        "from torch.utils.data import Dataset, DataLoader\n",
        "from sklearn import metrics"
      ],
      "metadata": {
        "id": "ew8ngMTnREbx"
      },
      "execution_count": 150,
      "outputs": []
    },
    {
      "cell_type": "code",
      "source": [
        "class MyDataset(Dataset):\n",
        "\n",
        "    def __init__(self, X, y): # Recibe todo el dataset\n",
        "        super().__init__()\n",
        "        self.X = X\n",
        "        self.y = y\n",
        "\n",
        "    def __len__(self):  # Devuelve cantidad de filas que tiene el DS\n",
        "        return self.X.shape[0]\n",
        "\n",
        "    def __getitem__(self, idx): # Esto es para poder devolver un item, muestras para iterar. Devolver una tupla con estos dos elementos\n",
        "        return self.X[idx], self.y[idx]"
      ],
      "metadata": {
        "id": "QOKrevWwRMui"
      },
      "execution_count": 151,
      "outputs": []
    },
    {
      "cell_type": "code",
      "source": [
        "train = MyDataset(X_train, y_train) # Creo un objeto "
      ],
      "metadata": {
        "id": "IfylgH5FRtBF"
      },
      "execution_count": 152,
      "outputs": []
    },
    {
      "cell_type": "code",
      "source": [
        "len(train) # Uso el metodo len para devolver la cantidad de filas"
      ],
      "metadata": {
        "colab": {
          "base_uri": "https://localhost:8080/"
        },
        "id": "xwotH3TkSOfv",
        "outputId": "b254e8b6-3151-4afc-b653-5181e738fabb"
      },
      "execution_count": 153,
      "outputs": [
        {
          "output_type": "execute_result",
          "data": {
            "text/plain": [
              "5493"
            ]
          },
          "metadata": {},
          "execution_count": 153
        }
      ]
    },
    {
      "cell_type": "code",
      "source": [
        "X0, y0 = train[0] # Devuelve los valores para el indice 0"
      ],
      "metadata": {
        "id": "Ch3k54ntSROu"
      },
      "execution_count": 154,
      "outputs": []
    },
    {
      "cell_type": "code",
      "source": [
        "X0.shape # Vector con las columnas correspondientes a la fila 0"
      ],
      "metadata": {
        "colab": {
          "base_uri": "https://localhost:8080/"
        },
        "id": "XkxbziOhScFv",
        "outputId": "1479ea07-2b2b-4a52-ebce-c2f43e3e646f"
      },
      "execution_count": 155,
      "outputs": [
        {
          "output_type": "execute_result",
          "data": {
            "text/plain": [
              "(13,)"
            ]
          },
          "metadata": {},
          "execution_count": 155
        }
      ]
    },
    {
      "cell_type": "code",
      "source": [
        "X_train.shape"
      ],
      "metadata": {
        "colab": {
          "base_uri": "https://localhost:8080/"
        },
        "id": "1V-3f7QKSgag",
        "outputId": "af7b055f-729b-4a55-83c5-632ec252d7f7"
      },
      "execution_count": 156,
      "outputs": [
        {
          "output_type": "execute_result",
          "data": {
            "text/plain": [
              "(5493, 13)"
            ]
          },
          "metadata": {},
          "execution_count": 156
        }
      ]
    },
    {
      "cell_type": "code",
      "source": [
        "y0"
      ],
      "metadata": {
        "colab": {
          "base_uri": "https://localhost:8080/"
        },
        "id": "iB5NNBRRSi5g",
        "outputId": "5fab06c1-073a-4807-bf30-8ba5c88dc316"
      },
      "execution_count": 157,
      "outputs": [
        {
          "output_type": "execute_result",
          "data": {
            "text/plain": [
              "0"
            ]
          },
          "metadata": {},
          "execution_count": 157
        }
      ]
    },
    {
      "cell_type": "code",
      "source": [
        "valid = MyDataset(X_valid, y_valid)"
      ],
      "metadata": {
        "id": "ssMZMDJRSn0h"
      },
      "execution_count": 158,
      "outputs": []
    },
    {
      "cell_type": "code",
      "source": [
        "len(valid)"
      ],
      "metadata": {
        "colab": {
          "base_uri": "https://localhost:8080/"
        },
        "id": "9XxU-vPzSs3R",
        "outputId": "e10be8a1-d959-4a7e-ff30-b15f6272800e"
      },
      "execution_count": 159,
      "outputs": [
        {
          "output_type": "execute_result",
          "data": {
            "text/plain": [
              "970"
            ]
          },
          "metadata": {},
          "execution_count": 159
        }
      ]
    },
    {
      "cell_type": "code",
      "source": [
        "print(X0)"
      ],
      "metadata": {
        "colab": {
          "base_uri": "https://localhost:8080/"
        },
        "id": "KlCqxEeFSt8S",
        "outputId": "c4076b8e-c487-4ae3-8484-caba4c211856"
      },
      "execution_count": 160,
      "outputs": [
        {
          "output_type": "stream",
          "name": "stdout",
          "text": [
            "[0.24793388 0.13333333 0.10240964 0.20398773 0.06312292 0.16666667\n",
            " 0.359447   0.21573164 0.37984496 0.16292135 0.14492754 0.\n",
            " 1.        ]\n"
          ]
        }
      ]
    },
    {
      "cell_type": "code",
      "source": [
        "# El Dataloader (Clase de Pytorch) sirve para generar el batch\n",
        "train_dataloader = DataLoader(train, batch_size=64, shuffle=True) # Shuffle cambia los datos del batch por cada epoch\n",
        "valid_dataloader = DataLoader(valid, batch_size=64, shuffle=True)"
      ],
      "metadata": {
        "id": "K4ByVtwgSxEa"
      },
      "execution_count": 161,
      "outputs": []
    },
    {
      "cell_type": "code",
      "source": [
        "batch_1 = next(iter(train_dataloader))"
      ],
      "metadata": {
        "id": "321dr8dCT4wz"
      },
      "execution_count": 162,
      "outputs": []
    },
    {
      "cell_type": "code",
      "source": [
        "type(batch_1)"
      ],
      "metadata": {
        "colab": {
          "base_uri": "https://localhost:8080/"
        },
        "id": "bOU8Nm17UNhN",
        "outputId": "9b034be4-354d-41f8-e85a-df5e6c285e7d"
      },
      "execution_count": 163,
      "outputs": [
        {
          "output_type": "execute_result",
          "data": {
            "text/plain": [
              "list"
            ]
          },
          "metadata": {},
          "execution_count": 163
        }
      ]
    },
    {
      "cell_type": "code",
      "source": [
        "len(batch_1)"
      ],
      "metadata": {
        "colab": {
          "base_uri": "https://localhost:8080/"
        },
        "id": "z-YMYZirUTwO",
        "outputId": "80d5b495-3726-48a4-86ca-ef953729c63a"
      },
      "execution_count": 164,
      "outputs": [
        {
          "output_type": "execute_result",
          "data": {
            "text/plain": [
              "2"
            ]
          },
          "metadata": {},
          "execution_count": 164
        }
      ]
    },
    {
      "cell_type": "code",
      "source": [
        "type(batch_1[0])"
      ],
      "metadata": {
        "colab": {
          "base_uri": "https://localhost:8080/"
        },
        "id": "6jrte7jCUV6O",
        "outputId": "5dc55a45-e3a6-4f59-9b98-ede61953fb8a"
      },
      "execution_count": 165,
      "outputs": [
        {
          "output_type": "execute_result",
          "data": {
            "text/plain": [
              "torch.Tensor"
            ]
          },
          "metadata": {},
          "execution_count": 165
        }
      ]
    },
    {
      "cell_type": "code",
      "source": [
        "print(batch_1[0].shape) # -> 64 filas de X_train (dataset de entrenamiento)"
      ],
      "metadata": {
        "colab": {
          "base_uri": "https://localhost:8080/"
        },
        "id": "w5rWRYS0UbJJ",
        "outputId": "5f5eff2d-d3ad-421d-e5b1-f8a096ae5be2"
      },
      "execution_count": 166,
      "outputs": [
        {
          "output_type": "stream",
          "name": "stdout",
          "text": [
            "torch.Size([64, 13])\n"
          ]
        }
      ]
    },
    {
      "cell_type": "code",
      "source": [
        "print(batch_1[1].shape) # -> 64 filas de y_train (label)"
      ],
      "metadata": {
        "colab": {
          "base_uri": "https://localhost:8080/"
        },
        "id": "ptE4qNlTUmA4",
        "outputId": "d6ced54f-ee44-4c89-c5e2-5fe2bafb1e24"
      },
      "execution_count": 167,
      "outputs": [
        {
          "output_type": "stream",
          "name": "stdout",
          "text": [
            "torch.Size([64])\n"
          ]
        }
      ]
    },
    {
      "cell_type": "code",
      "source": [
        "class NNet(torch.nn.Module):\n",
        "\n",
        "    def __init__(self):\n",
        "        super().__init__()\n",
        "        self.linear_1 = torch.nn.Linear(in_features=13, out_features=100, bias=True)\n",
        "        self.relu_1 = torch.nn.ReLU()\n",
        "        self.linear_2 = torch.nn.Linear(in_features=100, out_features=50, bias=True)\n",
        "        self.relu_2 = torch.nn.ReLU()\n",
        "        self.output = torch.nn.Linear(in_features=50, out_features=1, bias=True)\n",
        "\n",
        "    def forward(self, x): # x.shape -> 64 x 13\n",
        "        x = self.linear_1(x) # x.shape -> 64 x 100 \n",
        "        #print(x.shape)\n",
        "        x = self.relu_1(x) # x.shape -> 64 x 100\n",
        "        #print(x.shape)\n",
        "        x = self.linear_2(x) # x.shape -> 64 x 50\n",
        "        #print(x.shape)\n",
        "        x = self.relu_2(x) # x.shape -> 64 x 50\n",
        "        #print(x.shape)\n",
        "        x = self.output(x) # x.shape -> 64 x 1\n",
        "        return x"
      ],
      "metadata": {
        "id": "JsX0C6U8UrXE"
      },
      "execution_count": 168,
      "outputs": []
    },
    {
      "cell_type": "code",
      "source": [
        "nnet = NNet()"
      ],
      "metadata": {
        "id": "kYb1Xz-dWGuF"
      },
      "execution_count": 169,
      "outputs": []
    },
    {
      "cell_type": "code",
      "source": [
        "x_batch = next(iter(train_dataloader))[0]\n",
        "print(type(x_batch))\n",
        "x_batch = x_batch.float()\n",
        "y_batch = nnet(x_batch)\n",
        "print(x_batch.shape)\n",
        "print(y_batch.shape)"
      ],
      "metadata": {
        "colab": {
          "base_uri": "https://localhost:8080/"
        },
        "id": "-wHF-eCeaAvC",
        "outputId": "690878ee-5102-4c74-c392-6346c96f55c1"
      },
      "execution_count": 170,
      "outputs": [
        {
          "output_type": "stream",
          "name": "stdout",
          "text": [
            "<class 'torch.Tensor'>\n",
            "torch.Size([64, 13])\n",
            "torch.Size([64, 1])\n"
          ]
        }
      ]
    },
    {
      "cell_type": "code",
      "source": [
        "optimizer = torch.optim.Adam(nnet.parameters(), lr=0.001)\n",
        "loss_function = torch.nn.BCEWithLogitsLoss(reduction=\"sum\")"
      ],
      "metadata": {
        "id": "ti73yFR5ajxN"
      },
      "execution_count": 171,
      "outputs": []
    },
    {
      "cell_type": "code",
      "source": [
        "device = \"\"\n",
        "if torch.cuda.is_available():\n",
        "    device = \"cuda:0\"\n",
        "else:\n",
        "    device = \"cpu\"\n",
        "\n",
        "print(device)"
      ],
      "metadata": {
        "colab": {
          "base_uri": "https://localhost:8080/"
        },
        "id": "VpqrLBLYb1Bo",
        "outputId": "67fa36ec-a93a-4620-adfe-ebecb8482b0c"
      },
      "execution_count": 172,
      "outputs": [
        {
          "output_type": "stream",
          "name": "stdout",
          "text": [
            "cuda:0\n"
          ]
        }
      ]
    },
    {
      "cell_type": "code",
      "source": [
        "nnet.to(device)\n",
        "\n",
        "loss_list = []\n",
        "train_auc = []\n",
        "for epoch in range(100):\n",
        "\n",
        "    running_loss = 0\n",
        "    running_y_score = []\n",
        "    running_y_label = []\n",
        "    for i, data in enumerate(train_dataloader):\n",
        "\n",
        "        # datos del batch\n",
        "        X_batch, y_batch = data \n",
        "        X_batch = X_batch.to(device).float()\n",
        "        Y_batch = y_batch.to(device).float()\n",
        "\n",
        "        # forward\n",
        "        optimizer.zero_grad()\n",
        "        y_batch_score = nnet(X_batch).reshape(-1)\n",
        "        y_batch_hat = torch.sigmoid(y_batch_score).reshape(-1)\n",
        "\n",
        "        # backpropagation\n",
        "        loss = loss_function(y_batch_score, Y_batch) # calcula el loss\n",
        "        loss.backward() # hacer los gradientes del loss\n",
        "\n",
        "        # actualización de parametros\n",
        "        optimizer.step() \n",
        "\n",
        "        running_loss += loss.item()\n",
        "        running_y_score += list(y_batch_score.detach().cpu().numpy()) # Acumula predicción (para graficar lo traemos de GPU a CPU con detach)\n",
        "        running_y_label += list(Y_batch.detach().cpu().numpy()) # Acumula y_true\n",
        "\n",
        "    # metrics\n",
        "    loss_list.append(running_loss)\n",
        "    fpt, tpr, _ = metrics.roc_curve(running_y_label, running_y_score) # False positive rate and True positive rate, los necesito para calcular AUC\n",
        "    auc = metrics.auc(fpt, tpr)\n",
        "    train_auc.append(auc)\n",
        "    print(f\"Epoch {epoch} | Training loss: {running_loss} | AUC: {auc}\")\n"
      ],
      "metadata": {
        "colab": {
          "base_uri": "https://localhost:8080/"
        },
        "id": "u0RP_kJ_cCMv",
        "outputId": "d27fbb67-1975-42bd-8d82-77b5e911a84d"
      },
      "execution_count": 173,
      "outputs": [
        {
          "output_type": "stream",
          "name": "stdout",
          "text": [
            "Epoch 0 | Training loss: 2833.678653717041 | AUC: 0.5708507334095642\n",
            "Epoch 1 | Training loss: 2434.7100887298584 | AUC: 0.7617780480054446\n",
            "Epoch 2 | Training loss: 2274.024453163147 | AUC: 0.7880171336017262\n",
            "Epoch 3 | Training loss: 2223.720043182373 | AUC: 0.7989816837352137\n",
            "Epoch 4 | Training loss: 2202.0198192596436 | AUC: 0.8026998162618673\n",
            "Epoch 5 | Training loss: 2187.0584716796875 | AUC: 0.8059688203978518\n",
            "Epoch 6 | Training loss: 2162.368124961853 | AUC: 0.8119107014326236\n",
            "Epoch 7 | Training loss: 2157.5511512756348 | AUC: 0.8121004446245962\n",
            "Epoch 8 | Training loss: 2148.811122894287 | AUC: 0.8141942920243639\n",
            "Epoch 9 | Training loss: 2137.6961917877197 | AUC: 0.8166945234693563\n",
            "Epoch 10 | Training loss: 2133.927173614502 | AUC: 0.8176461585552495\n",
            "Epoch 11 | Training loss: 2123.9007778167725 | AUC: 0.8193480090309418\n",
            "Epoch 12 | Training loss: 2118.1785163879395 | AUC: 0.8208882650299544\n",
            "Epoch 13 | Training loss: 2121.3286485671997 | AUC: 0.8201664068644501\n",
            "Epoch 14 | Training loss: 2115.8378505706787 | AUC: 0.821022023554845\n",
            "Epoch 15 | Training loss: 2104.397357940674 | AUC: 0.8236958387441418\n",
            "Epoch 16 | Training loss: 2096.8312101364136 | AUC: 0.8255159138240634\n",
            "Epoch 17 | Training loss: 2088.7125568389893 | AUC: 0.8271258118297999\n",
            "Epoch 18 | Training loss: 2089.852319717407 | AUC: 0.8269323154757884\n",
            "Epoch 19 | Training loss: 2086.5999870300293 | AUC: 0.8277659344664546\n",
            "Epoch 20 | Training loss: 2072.1273822784424 | AUC: 0.8309242203222883\n",
            "Epoch 21 | Training loss: 2064.950481414795 | AUC: 0.8325032589957039\n",
            "Epoch 22 | Training loss: 2069.40918636322 | AUC: 0.8319198508076389\n",
            "Epoch 23 | Training loss: 2056.2541675567627 | AUC: 0.83447575415621\n",
            "Epoch 24 | Training loss: 2042.9771060943604 | AUC: 0.8376367506290717\n",
            "Epoch 25 | Training loss: 2039.2426624298096 | AUC: 0.8377585198863375\n",
            "Epoch 26 | Training loss: 2034.1660289764404 | AUC: 0.8393004439573675\n",
            "Epoch 27 | Training loss: 2027.0540924072266 | AUC: 0.8408167214211306\n",
            "Epoch 28 | Training loss: 2032.8108701705933 | AUC: 0.8398903159244998\n",
            "Epoch 29 | Training loss: 2017.679617881775 | AUC: 0.8427402169661273\n",
            "Epoch 30 | Training loss: 2012.5972366333008 | AUC: 0.8430517294153658\n",
            "Epoch 31 | Training loss: 2004.55570602417 | AUC: 0.845449791449296\n",
            "Epoch 32 | Training loss: 2024.7031383514404 | AUC: 0.8404348371836605\n",
            "Epoch 33 | Training loss: 1992.1833009719849 | AUC: 0.8478259600379986\n",
            "Epoch 34 | Training loss: 2000.868745803833 | AUC: 0.8462137684332383\n",
            "Epoch 35 | Training loss: 1993.8172769546509 | AUC: 0.847262985732146\n",
            "Epoch 36 | Training loss: 1992.2884130477905 | AUC: 0.8478274196010138\n",
            "Epoch 37 | Training loss: 1975.5092849731445 | AUC: 0.851104555588083\n",
            "Epoch 38 | Training loss: 1975.2590856552124 | AUC: 0.8512457161825506\n",
            "Epoch 39 | Training loss: 1969.906047821045 | AUC: 0.8520703692861237\n",
            "Epoch 40 | Training loss: 1960.9160861968994 | AUC: 0.8540968682781909\n",
            "Epoch 41 | Training loss: 1962.1425247192383 | AUC: 0.8535439024044424\n",
            "Epoch 42 | Training loss: 1959.548981666565 | AUC: 0.8538750146998847\n",
            "Epoch 43 | Training loss: 1950.5085411071777 | AUC: 0.8557674424035583\n",
            "Epoch 44 | Training loss: 1953.0640411376953 | AUC: 0.8551331580189643\n",
            "Epoch 45 | Training loss: 1961.4133682250977 | AUC: 0.8534464244459291\n",
            "Epoch 46 | Training loss: 1950.9568519592285 | AUC: 0.8554965892097425\n",
            "Epoch 47 | Training loss: 1944.0966091156006 | AUC: 0.8565556064317521\n",
            "Epoch 48 | Training loss: 1944.5753946304321 | AUC: 0.856343969794552\n",
            "Epoch 49 | Training loss: 1934.576795578003 | AUC: 0.8584253066541896\n",
            "Epoch 50 | Training loss: 1925.6170625686646 | AUC: 0.8599432521899699\n",
            "Epoch 51 | Training loss: 1954.567783355713 | AUC: 0.8539623799717929\n",
            "Epoch 52 | Training loss: 1930.2785501480103 | AUC: 0.858608586067095\n",
            "Epoch 53 | Training loss: 1937.5906457901 | AUC: 0.85770970375875\n",
            "Epoch 54 | Training loss: 1921.907322883606 | AUC: 0.8609017680729347\n",
            "Epoch 55 | Training loss: 1923.8463554382324 | AUC: 0.8602449647161066\n",
            "Epoch 56 | Training loss: 1930.32390499115 | AUC: 0.8590579229667662\n",
            "Epoch 57 | Training loss: 1909.7550296783447 | AUC: 0.8632639665584922\n",
            "Epoch 58 | Training loss: 1927.187744140625 | AUC: 0.8592787340000617\n",
            "Epoch 59 | Training loss: 1910.3217334747314 | AUC: 0.8629370244430934\n",
            "Epoch 60 | Training loss: 1901.2500448226929 | AUC: 0.8639311953654285\n",
            "Epoch 61 | Training loss: 1893.531699180603 | AUC: 0.8657379258692115\n",
            "Epoch 62 | Training loss: 1896.3795671463013 | AUC: 0.8648513455919946\n",
            "Epoch 63 | Training loss: 1896.0995426177979 | AUC: 0.8649539320210611\n",
            "Epoch 64 | Training loss: 1890.9460172653198 | AUC: 0.8657540853168795\n",
            "Epoch 65 | Training loss: 1886.1673860549927 | AUC: 0.86643226084643\n",
            "Epoch 66 | Training loss: 1894.10391330719 | AUC: 0.8648179841516478\n",
            "Epoch 67 | Training loss: 1883.1022930145264 | AUC: 0.8669908564632369\n",
            "Epoch 68 | Training loss: 1888.203646659851 | AUC: 0.8664697924668199\n",
            "Epoch 69 | Training loss: 1895.7387561798096 | AUC: 0.8647106020155314\n",
            "Epoch 70 | Training loss: 1881.5423421859741 | AUC: 0.8676695532652927\n",
            "Epoch 71 | Training loss: 1877.1304473876953 | AUC: 0.8680969967197363\n",
            "Epoch 72 | Training loss: 1870.941463470459 | AUC: 0.8694673178819823\n",
            "Epoch 73 | Training loss: 1866.1964302062988 | AUC: 0.8701681166382678\n",
            "Epoch 74 | Training loss: 1871.1662874221802 | AUC: 0.869161018157798\n",
            "Epoch 75 | Training loss: 1864.6318368911743 | AUC: 0.8704735823264435\n",
            "Epoch 76 | Training loss: 1869.2617225646973 | AUC: 0.8697884217453205\n",
            "Epoch 77 | Training loss: 1881.2972679138184 | AUC: 0.867551745679068\n",
            "Epoch 78 | Training loss: 1891.6361570358276 | AUC: 0.8654095241907974\n",
            "Epoch 79 | Training loss: 1873.2765617370605 | AUC: 0.8692400430696196\n",
            "Epoch 80 | Training loss: 1874.6487674713135 | AUC: 0.868316556699019\n",
            "Epoch 81 | Training loss: 1873.2117652893066 | AUC: 0.8683601350804719\n",
            "Epoch 82 | Training loss: 1851.593210220337 | AUC: 0.872637175987436\n",
            "Epoch 83 | Training loss: 1856.4228076934814 | AUC: 0.8712876014709058\n",
            "Epoch 84 | Training loss: 1864.2610921859741 | AUC: 0.8703728724783965\n",
            "Epoch 85 | Training loss: 1852.394618988037 | AUC: 0.8722857340642824\n",
            "Epoch 86 | Training loss: 1857.179880142212 | AUC: 0.8717071215832674\n",
            "Epoch 87 | Training loss: 1854.9062614440918 | AUC: 0.8722786447582088\n",
            "Epoch 88 | Training loss: 1855.164282798767 | AUC: 0.8719620238384171\n",
            "Epoch 89 | Training loss: 1849.0789394378662 | AUC: 0.8731990034937769\n",
            "Epoch 90 | Training loss: 1862.2178287506104 | AUC: 0.8706251683710192\n",
            "Epoch 91 | Training loss: 1846.2334051132202 | AUC: 0.873017600661891\n",
            "Epoch 92 | Training loss: 1860.7269172668457 | AUC: 0.8711752151187375\n",
            "Epoch 93 | Training loss: 1840.5106658935547 | AUC: 0.8744784147310776\n",
            "Epoch 94 | Training loss: 1836.9231748580933 | AUC: 0.8753066124876876\n",
            "Epoch 95 | Training loss: 1845.5626916885376 | AUC: 0.8739777846168731\n",
            "Epoch 96 | Training loss: 1837.7691555023193 | AUC: 0.8750928907604658\n",
            "Epoch 97 | Training loss: 1833.1170463562012 | AUC: 0.8754796749594868\n",
            "Epoch 98 | Training loss: 1831.5870323181152 | AUC: 0.875871671883562\n",
            "Epoch 99 | Training loss: 1829.6070156097412 | AUC: 0.8761283464652302\n"
          ]
        }
      ]
    },
    {
      "cell_type": "code",
      "source": [
        "fig, ax1 = plt.subplots(1,1)\n",
        "x = range(0, len(train_auc))\n",
        "ax1.plot(x, train_auc)"
      ],
      "metadata": {
        "colab": {
          "base_uri": "https://localhost:8080/",
          "height": 283
        },
        "id": "ff9GZZj4e6PE",
        "outputId": "dd5e6898-300b-47ec-e8b2-ec28f298b5c4"
      },
      "execution_count": 174,
      "outputs": [
        {
          "output_type": "execute_result",
          "data": {
            "text/plain": [
              "[<matplotlib.lines.Line2D at 0x7fdb072f7750>]"
            ]
          },
          "metadata": {},
          "execution_count": 174
        },
        {
          "output_type": "display_data",
          "data": {
            "text/plain": [
              "<Figure size 432x288 with 1 Axes>"
            ],
            "image/png": "[encoded data removed]"
          },
          "metadata": {
            "needs_background": "light"
          }
        }
      ]
    },
    {
      "cell_type": "code",
      "source": [
        ""
      ],
      "metadata": {
        "id": "cIlMh71Xf6Vb"
      },
      "execution_count": 174,
      "outputs": []
    },
    {
      "cell_type": "markdown",
      "source": [
        "# NNet with embeddings"
      ],
      "metadata": {
        "id": "dehthQngXl17"
      }
    },
    {
      "cell_type": "code",
      "source": [
        "unique = np.unique(vendor_id)\n",
        "index = np.arange(0, len(unique))\n",
        "vendor_id_to_index = {key: value for key, value in zip(unique, index)}"
      ],
      "metadata": {
        "id": "eqtkZ0koXnfi"
      },
      "execution_count": 175,
      "outputs": []
    },
    {
      "cell_type": "code",
      "source": [
        "vendors_idx = np.array([vendor_id_to_index[vendor] for vendor in vendor_id])"
      ],
      "metadata": {
        "id": "adgo0xPCaCmT"
      },
      "execution_count": 176,
      "outputs": []
    },
    {
      "cell_type": "code",
      "source": [
        "print(max(vendors_idx))\n",
        "print(min(vendors_idx))"
      ],
      "metadata": {
        "colab": {
          "base_uri": "https://localhost:8080/"
        },
        "id": "ylMLPk3haiC4",
        "outputId": "e691e50d-451e-42cc-f071-1c0b3cf04126"
      },
      "execution_count": 177,
      "outputs": [
        {
          "output_type": "stream",
          "name": "stdout",
          "text": [
            "499\n",
            "0\n"
          ]
        }
      ]
    },
    {
      "cell_type": "code",
      "source": [
        "class CustomDatasetWithEmb(Dataset):\n",
        "\n",
        "    def __init__(self, X, vendors_idx, y):\n",
        "        super().__init__()\n",
        "        self.X = X\n",
        "        self.vendors_idx = vendors_idx\n",
        "        self.y = y\n",
        "\n",
        "    def __len__(self):\n",
        "        return self.X.shape[0]\n",
        "\n",
        "    def __getitem__(self, idx):\n",
        "        return self.X[idx], self.vendors_idx[idx], self.y[idx]"
      ],
      "metadata": {
        "id": "zam3uekkan9Y"
      },
      "execution_count": 178,
      "outputs": []
    },
    {
      "cell_type": "code",
      "source": [
        "vendors_index_train = vendors_idx[train_idx]  \n",
        "vendors_index_val = vendors_idx[valid_idx]\n",
        "train = CustomDatasetWithEmb(X_train, vendors_index_train, y_train)\n",
        "valid = CustomDatasetWithEmb(X_valid, vendors_index_val, y_valid)"
      ],
      "metadata": {
        "id": "vFfmOGUHbDG7"
      },
      "execution_count": 179,
      "outputs": []
    },
    {
      "cell_type": "code",
      "source": [
        "train_dataloader = DataLoader(train, batch_size=64, shuffle=True)\n",
        "valid_dataloader = DataLoader(valid, batch_size=64, shuffle=True)"
      ],
      "metadata": {
        "id": "5imzVPkNbih_"
      },
      "execution_count": 180,
      "outputs": []
    },
    {
      "cell_type": "code",
      "source": [
        "class NNetWithEmbeddings(torch.nn.Module):\n",
        "\n",
        "    def __init__(self, number_of_vendors, d):\n",
        "        super().__init__()\n",
        "        self.embedding = torch.nn.Embedding(num_embeddings=number_of_vendors, embedding_dim=d)\n",
        "        self.linear_1 = torch.nn.Linear(in_features=(13+d), out_features=100, bias=True)\n",
        "        self.relu_1 = torch.nn.ReLU()\n",
        "        self.linear_2 = torch.nn.Linear(in_features=100, out_features=50, bias=True)\n",
        "        self.relu_2 = torch.nn.ReLU()\n",
        "        self.output = torch.nn.Linear(in_features=50, out_features=1, bias=True)\n",
        "\n",
        "    def forward(self, x, vendor_idx):\n",
        "        vendor_emb = self.embedding(vendor_idx) # (64, d)\n",
        "\n",
        "        final_input = torch.cat([x, vendor_emb], dim=1) # (64, 13+d)\n",
        "\n",
        "        x = self.linear_1(final_input) \n",
        "        x = self.relu_1(x)\n",
        "        x = self.linear_2(x)\n",
        "        x = self.relu_2(x)        \n",
        "        x = self.output(x) \n",
        "        return x\n"
      ],
      "metadata": {
        "id": "nVqmme-1bzrg"
      },
      "execution_count": 181,
      "outputs": []
    },
    {
      "cell_type": "code",
      "source": [
        "nnet2 = NNetWithEmbeddings(number_of_vendors=500, d=8)\n",
        "optimizer = torch.optim.Adam(nnet2.parameters(), lr=0.001)\n",
        "loss_function = torch.nn.BCEWithLogitsLoss(reduction=\"sum\")"
      ],
      "metadata": {
        "id": "S5tP8PQJdaOA"
      },
      "execution_count": 182,
      "outputs": []
    },
    {
      "cell_type": "code",
      "source": [
        "print(nnet)"
      ],
      "metadata": {
        "colab": {
          "base_uri": "https://localhost:8080/"
        },
        "id": "FovucZ-OdnaW",
        "outputId": "c2d9d5d2-0e5d-411f-9f7d-d3baad6b8dcc"
      },
      "execution_count": 183,
      "outputs": [
        {
          "output_type": "stream",
          "name": "stdout",
          "text": [
            "NNet(\n",
            "  (linear_1): Linear(in_features=13, out_features=100, bias=True)\n",
            "  (relu_1): ReLU()\n",
            "  (linear_2): Linear(in_features=100, out_features=50, bias=True)\n",
            "  (relu_2): ReLU()\n",
            "  (output): Linear(in_features=50, out_features=1, bias=True)\n",
            ")\n"
          ]
        }
      ]
    },
    {
      "cell_type": "code",
      "source": [
        "print(nnet2)"
      ],
      "metadata": {
        "colab": {
          "base_uri": "https://localhost:8080/"
        },
        "id": "Lt6EfDXvdpZn",
        "outputId": "c5bd214d-1c1a-4cc0-d6f3-db10785196ac"
      },
      "execution_count": 184,
      "outputs": [
        {
          "output_type": "stream",
          "name": "stdout",
          "text": [
            "NNetWithEmbeddings(\n",
            "  (embedding): Embedding(500, 8)\n",
            "  (linear_1): Linear(in_features=21, out_features=100, bias=True)\n",
            "  (relu_1): ReLU()\n",
            "  (linear_2): Linear(in_features=100, out_features=50, bias=True)\n",
            "  (relu_2): ReLU()\n",
            "  (output): Linear(in_features=50, out_features=1, bias=True)\n",
            ")\n"
          ]
        }
      ]
    },
    {
      "cell_type": "code",
      "source": [
        "nnet = nnet2\n",
        "\n",
        "nnet.to(device)\n",
        "\n",
        "loss_list = []\n",
        "train_auc = []\n",
        "loss_valid_list = []\n",
        "valid_auc = []\n",
        "\n",
        "for epoch in range(100):\n",
        "\n",
        "    running_loss = 0\n",
        "    running_y_score = []\n",
        "    running_y_label = []\n",
        "    running_valid_loss = 0\n",
        "    running_y_score_v = []\n",
        "    running_y_label_v = []\n",
        "\n",
        "\n",
        "    #### TRAINING ####\n",
        "\n",
        "    for i, data in enumerate(train_dataloader):\n",
        "\n",
        "        # datos del batch\n",
        "        X_batch, vendor_idx_batch, y_batch = data \n",
        "        X_batch = X_batch.to(device).float()\n",
        "        vendor_idx_batch = vendor_idx_batch.to(device)\n",
        "        Y_batch = y_batch.to(device).float()\n",
        "\n",
        "        # forward\n",
        "        optimizer.zero_grad()\n",
        "        y_batch_score = nnet(X_batch, vendor_idx_batch).reshape(-1)\n",
        "        y_batch_hat = torch.sigmoid(y_batch_score).reshape(-1)\n",
        "\n",
        "        # backpropagation\n",
        "        loss = loss_function(y_batch_score, Y_batch) # calcula el loss\n",
        "        loss.backward() # hacer los gradientes del loss\n",
        "\n",
        "        # actualización de parametros\n",
        "        optimizer.step() \n",
        "\n",
        "        running_loss += loss.item()\n",
        "        running_y_score += list(y_batch_score.detach().cpu().numpy())  \n",
        "        running_y_label += list(Y_batch.detach().cpu().numpy()) \n",
        "\n",
        "    # metrics training\n",
        "    loss_list.append(running_loss)\n",
        "    fpt, tpr, _ = metrics.roc_curve(running_y_label, running_y_score)\n",
        "    auc = metrics.auc(fpt, tpr)\n",
        "    train_auc.append(auc)\n",
        "    #print(f\"Epoch {epoch} | Training loss: {running_loss} | AUC: {auc}\")\n",
        "\n",
        "    #### VALIDATION ####\n",
        "    nnet.eval()\n",
        "    with torch.no_grad(): # Me aseguro de no calcular ningun gradiente, porque estoy haciendo evaluacion\n",
        "      for i, data in enumerate(valid_dataloader):\n",
        "        # datos del batch\n",
        "        X_batch_v, vendor_idx_batch_v, y_batch_v = data \n",
        "        X_batch_v = X_batch_v.to(device).float()\n",
        "        vendor_idx_batch_v = vendor_idx_batch_v.to(device)\n",
        "        Y_batch_v = y_batch_v.to(device).float()\n",
        "\n",
        "        # TODO: pasos para acumular y_score and y\n",
        "        y_batch_score_v = nnet(X_batch_v, vendor_idx_batch_v).reshape(-1)\n",
        "        y_batch_hat_v = torch.sigmoid(y_batch_score_v).reshape(-1)\n",
        "\n",
        "        valid_loss = loss_function(y_batch_score_v, Y_batch_v) # calcula el loss\n",
        "\n",
        "        running_valid_loss += valid_loss.item()\n",
        "        running_y_score_v += list(y_batch_score_v.detach().cpu().numpy())  \n",
        "        running_y_label_v += list(Y_batch_v.detach().cpu().numpy()) \n",
        "\n",
        "     \n",
        "    # TODO: pasos para calcular las metrics (AUC)\n",
        "    # TODO: pasos para acumular validation loss\n",
        "    # metrics validation\n",
        "    loss_valid_list.append(running_valid_loss)\n",
        "    fpt_v, tpr_v, _ = metrics.roc_curve(running_y_label_v, running_y_score_v)\n",
        "    auc_v = metrics.auc(fpt_v, tpr_v)\n",
        "    valid_auc.append(auc_v)\n",
        "    print(f\"Epoch {epoch} | Training loss: {running_loss} | AUC: {auc}\")\n",
        "    print(f\"Epoch {epoch} | Validation loss: {running_valid_loss} | Validation AUC: {auc_v}\")\n",
        "\n",
        "\n",
        "\n"
      ],
      "metadata": {
        "colab": {
          "base_uri": "https://localhost:8080/"
        },
        "id": "c5GSkGw-drh3",
        "outputId": "30b00af9-56df-44e6-e4c2-6e0d6be8f548"
      },
      "execution_count": 185,
      "outputs": [
        {
          "output_type": "stream",
          "name": "stdout",
          "text": [
            "Epoch 0 | Training loss: 2849.2543754577637 | AUC: 0.5425154025599901\n",
            "Epoch 0 | Validation loss: 449.67219638824463 | Validation AUC: 0.6609931946226362\n",
            "Epoch 1 | Training loss: 2463.4980659484863 | AUC: 0.7484040720974087\n",
            "Epoch 1 | Validation loss: 399.78352642059326 | Validation AUC: 0.7824859151001283\n",
            "Epoch 2 | Training loss: 2013.6000566482544 | AUC: 0.8622036982824697\n",
            "Epoch 2 | Validation loss: 311.3894348144531 | Validation AUC: 0.8825235678027556\n",
            "Epoch 3 | Training loss: 1455.6912250518799 | AUC: 0.9304457755659142\n",
            "Epoch 3 | Validation loss: 236.1113510131836 | Validation AUC: 0.932092653539354\n",
            "Epoch 4 | Training loss: 1010.4703149795532 | AUC: 0.9672082062470965\n",
            "Epoch 4 | Validation loss: 182.86940114200115 | Validation AUC: 0.9587354270095386\n",
            "Epoch 5 | Training loss: 685.1815445423126 | AUC: 0.9854788075620378\n",
            "Epoch 5 | Validation loss: 136.19826900959015 | Validation AUC: 0.9761951246722821\n",
            "Epoch 6 | Training loss: 474.4359053373337 | AUC: 0.9925389223754346\n",
            "Epoch 6 | Validation loss: 104.93457454442978 | Validation AUC: 0.9835164835164836\n",
            "Epoch 7 | Training loss: 326.88810896873474 | AUC: 0.9967382936790914\n",
            "Epoch 7 | Validation loss: 79.9331305027008 | Validation AUC: 0.9877210353098679\n",
            "Epoch 8 | Training loss: 234.91123086214066 | AUC: 0.998117163710426\n",
            "Epoch 8 | Validation loss: 65.1490873247385 | Validation AUC: 0.9897152340045741\n",
            "Epoch 9 | Training loss: 177.67645290493965 | AUC: 0.9987151675286429\n",
            "Epoch 9 | Validation loss: 59.838267751038074 | Validation AUC: 0.9908587605288113\n",
            "Epoch 10 | Training loss: 133.49397461116314 | AUC: 0.9992604185693112\n",
            "Epoch 10 | Validation loss: 54.800506830215454 | Validation AUC: 0.9931318681318682\n",
            "Epoch 11 | Training loss: 106.68520064651966 | AUC: 0.9993978260017398\n",
            "Epoch 11 | Validation loss: 46.367605566978455 | Validation AUC: 0.9936339041668991\n",
            "Epoch 12 | Training loss: 76.81015353649855 | AUC: 0.9996755599926271\n",
            "Epoch 12 | Validation loss: 45.08870932459831 | Validation AUC: 0.9938291404027445\n",
            "Epoch 13 | Training loss: 62.34203194826841 | AUC: 0.9996855684247311\n",
            "Epoch 13 | Validation loss: 39.31050834059715 | Validation AUC: 0.9944078763875718\n",
            "Epoch 14 | Training loss: 47.0387889072299 | AUC: 0.9998728095086777\n",
            "Epoch 14 | Validation loss: 36.79679454024881 | Validation AUC: 0.9949866123723993\n",
            "Epoch 15 | Training loss: 37.72970898076892 | AUC: 0.9999418259883952\n",
            "Epoch 15 | Validation loss: 36.715513044036925 | Validation AUC: 0.9951818486082445\n",
            "Epoch 16 | Training loss: 31.203606065362692 | AUC: 0.9999145113091112\n",
            "Epoch 16 | Validation loss: 35.510963939130306 | Validation AUC: 0.9953003848942936\n",
            "Epoch 17 | Training loss: 24.811578024178743 | AUC: 0.9999710172486986\n",
            "Epoch 17 | Validation loss: 35.07999019138515 | Validation AUC: 0.9952446031126234\n",
            "Epoch 18 | Training loss: 19.891331620514393 | AUC: 0.9999833192798265\n",
            "Epoch 18 | Validation loss: 34.39612205326557 | Validation AUC: 0.995495621130139\n",
            "Epoch 19 | Training loss: 16.23813535645604 | AUC: 0.9999881149868765\n",
            "Epoch 19 | Validation loss: 33.04192945116665 | Validation AUC: 0.9955723210799353\n",
            "Epoch 20 | Training loss: 12.26654883287847 | AUC: 0.9999995829819958\n",
            "Epoch 20 | Validation loss: 34.735631668008864 | Validation AUC: 0.9955304847436828\n",
            "Epoch 21 | Training loss: 11.033820560667664 | AUC: 0.9999983319279826\n",
            "Epoch 21 | Validation loss: 32.41126583982259 | Validation AUC: 0.9954607575165951\n",
            "Epoch 22 | Training loss: 9.363601370714605 | AUC: 1.0\n",
            "Epoch 22 | Validation loss: 31.90407141391188 | Validation AUC: 0.9955304847436827\n",
            "Epoch 23 | Training loss: 7.23881483823061 | AUC: 1.0\n",
            "Epoch 23 | Validation loss: 31.461340834386647 | Validation AUC: 0.9954956211301389\n",
            "Epoch 24 | Training loss: 5.888609243556857 | AUC: 1.0\n",
            "Epoch 24 | Validation loss: 31.901776127517223 | Validation AUC: 0.9955444301891003\n",
            "Epoch 25 | Training loss: 4.83612866490148 | AUC: 1.0\n",
            "Epoch 25 | Validation loss: 30.726653853431344 | Validation AUC: 0.995523512020974\n",
            "Epoch 26 | Training loss: 4.179034827277064 | AUC: 1.0\n",
            "Epoch 26 | Validation loss: 31.616618115454912 | Validation AUC: 0.995495621130139\n",
            "Epoch 27 | Training loss: 3.533320110756904 | AUC: 1.0\n",
            "Epoch 27 | Validation loss: 31.270626105368137 | Validation AUC: 0.9955095665755564\n",
            "Epoch 28 | Training loss: 3.1728671989403665 | AUC: 1.0\n",
            "Epoch 28 | Validation loss: 31.268469154834747 | Validation AUC: 0.9955235120209739\n",
            "Epoch 29 | Training loss: 2.6893863398581743 | AUC: 1.0\n",
            "Epoch 29 | Validation loss: 31.385188327694777 | Validation AUC: 0.9955165392982652\n",
            "Epoch 30 | Training loss: 2.357296927133575 | AUC: 1.0\n",
            "Epoch 30 | Validation loss: 31.42940371390432 | Validation AUC: 0.995495621130139\n",
            "Epoch 31 | Training loss: 2.1059583108872175 | AUC: 1.0\n",
            "Epoch 31 | Validation loss: 31.616772679699352 | Validation AUC: 0.995495621130139\n",
            "Epoch 32 | Training loss: 1.840804778970778 | AUC: 1.0\n",
            "Epoch 32 | Validation loss: 31.58854807377793 | Validation AUC: 0.995523512020974\n",
            "Epoch 33 | Training loss: 1.6538103071507066 | AUC: 1.0\n",
            "Epoch 33 | Validation loss: 32.05828831461258 | Validation AUC: 0.9955165392982652\n",
            "Epoch 34 | Training loss: 1.4779996359720826 | AUC: 1.0\n",
            "Epoch 34 | Validation loss: 31.691881889477372 | Validation AUC: 0.9955304847436828\n",
            "Epoch 35 | Training loss: 1.3258226197212934 | AUC: 1.0\n",
            "Epoch 35 | Validation loss: 32.291224466403946 | Validation AUC: 0.995523512020974\n",
            "Epoch 36 | Training loss: 1.2184861189452931 | AUC: 1.0\n",
            "Epoch 36 | Validation loss: 32.22679885337129 | Validation AUC: 0.9954886484074301\n",
            "Epoch 37 | Training loss: 1.105768556240946 | AUC: 1.0\n",
            "Epoch 37 | Validation loss: 32.49885078537045 | Validation AUC: 0.9955304847436828\n",
            "Epoch 38 | Training loss: 0.9900226052850485 | AUC: 1.0\n",
            "Epoch 38 | Validation loss: 32.25557731799199 | Validation AUC: 0.995523512020974\n",
            "Epoch 39 | Training loss: 0.9107640822185203 | AUC: 1.0\n",
            "Epoch 39 | Validation loss: 32.447604140266776 | Validation AUC: 0.9955304847436827\n",
            "Epoch 40 | Training loss: 0.8420693636871874 | AUC: 1.0\n",
            "Epoch 40 | Validation loss: 32.61846866644919 | Validation AUC: 0.9955165392982651\n",
            "Epoch 41 | Training loss: 0.7656667542178184 | AUC: 1.0\n",
            "Epoch 41 | Validation loss: 32.927498136414215 | Validation AUC: 0.9955025938528476\n",
            "Epoch 42 | Training loss: 0.702732980629662 | AUC: 1.0\n",
            "Epoch 42 | Validation loss: 33.113156556210015 | Validation AUC: 0.9955025938528476\n",
            "Epoch 43 | Training loss: 0.6561239158036187 | AUC: 1.0\n",
            "Epoch 43 | Validation loss: 33.07163680886151 | Validation AUC: 0.9955025938528476\n",
            "Epoch 44 | Training loss: 0.5993973458826076 | AUC: 1.0\n",
            "Epoch 44 | Validation loss: 33.23075849865563 | Validation AUC: 0.9954956211301388\n",
            "Epoch 45 | Training loss: 0.5444912938401103 | AUC: 1.0\n",
            "Epoch 45 | Validation loss: 33.118384312227136 | Validation AUC: 0.9954956211301388\n",
            "Epoch 46 | Training loss: 0.5002831594902091 | AUC: 1.0\n",
            "Epoch 46 | Validation loss: 33.64673930907156 | Validation AUC: 0.9955095665755563\n",
            "Epoch 47 | Training loss: 0.4706315597286448 | AUC: 1.0\n",
            "Epoch 47 | Validation loss: 33.33494193174192 | Validation AUC: 0.99548864840743\n",
            "Epoch 48 | Training loss: 0.4333425451768562 | AUC: 1.0\n",
            "Epoch 48 | Validation loss: 33.64030915218609 | Validation AUC: 0.9954956211301388\n",
            "Epoch 49 | Training loss: 0.40072605275781825 | AUC: 1.0\n",
            "Epoch 49 | Validation loss: 33.846384148841025 | Validation AUC: 0.9954956211301388\n",
            "Epoch 50 | Training loss: 0.372391244454775 | AUC: 1.0\n",
            "Epoch 50 | Validation loss: 33.88510995171964 | Validation AUC: 0.9954956211301388\n",
            "Epoch 51 | Training loss: 0.3475576144119259 | AUC: 1.0\n",
            "Epoch 51 | Validation loss: 33.91985688575369 | Validation AUC: 0.9954956211301388\n",
            "Epoch 52 | Training loss: 0.31924347957829013 | AUC: 1.0\n",
            "Epoch 52 | Validation loss: 34.3193678935786 | Validation AUC: 0.9954956211301388\n",
            "Epoch 53 | Training loss: 0.30097876430954784 | AUC: 1.0\n",
            "Epoch 53 | Validation loss: 34.307292502053315 | Validation AUC: 0.9954956211301388\n",
            "Epoch 54 | Training loss: 0.27848314415314235 | AUC: 1.0\n",
            "Epoch 54 | Validation loss: 34.36602168472018 | Validation AUC: 0.9954956211301388\n",
            "Epoch 55 | Training loss: 0.2607446838519536 | AUC: 1.0\n",
            "Epoch 55 | Validation loss: 34.393341890507145 | Validation AUC: 0.9954956211301388\n",
            "Epoch 56 | Training loss: 0.24319623806513846 | AUC: 1.0\n",
            "Epoch 56 | Validation loss: 34.5077601831581 | Validation AUC: 0.9954956211301388\n",
            "Epoch 57 | Training loss: 0.2269599340579589 | AUC: 1.0\n",
            "Epoch 57 | Validation loss: 34.553344445026596 | Validation AUC: 0.99548864840743\n",
            "Epoch 58 | Training loss: 0.21264293638523668 | AUC: 1.0\n",
            "Epoch 58 | Validation loss: 34.65701897701365 | Validation AUC: 0.9954956211301388\n",
            "Epoch 59 | Training loss: 0.19785709481220692 | AUC: 0.9999999999999999\n",
            "Epoch 59 | Validation loss: 34.771060631471755 | Validation AUC: 0.9954956211301388\n",
            "Epoch 60 | Training loss: 0.18432895916339476 | AUC: 1.0\n",
            "Epoch 60 | Validation loss: 34.83649460968945 | Validation AUC: 0.9955025938528476\n",
            "Epoch 61 | Training loss: 0.17358537207474 | AUC: 1.0\n",
            "Epoch 61 | Validation loss: 35.050944347371114 | Validation AUC: 0.9955025938528476\n",
            "Epoch 62 | Training loss: 0.16061627308954485 | AUC: 1.0\n",
            "Epoch 62 | Validation loss: 35.153121426701546 | Validation AUC: 0.9955025938528476\n",
            "Epoch 63 | Training loss: 0.15163906618545298 | AUC: 1.0\n",
            "Epoch 63 | Validation loss: 35.2977285257075 | Validation AUC: 0.9955165392982651\n",
            "Epoch 64 | Training loss: 0.14213470071263146 | AUC: 1.0\n",
            "Epoch 64 | Validation loss: 35.47130624894635 | Validation AUC: 0.9955095665755564\n",
            "Epoch 65 | Training loss: 0.13291949911945267 | AUC: 1.0\n",
            "Epoch 65 | Validation loss: 35.53137010647333 | Validation AUC: 0.9955165392982652\n",
            "Epoch 66 | Training loss: 0.12468121579149738 | AUC: 1.0\n",
            "Epoch 66 | Validation loss: 35.51611952096573 | Validation AUC: 0.9955095665755564\n",
            "Epoch 67 | Training loss: 0.11730552061635535 | AUC: 1.0\n",
            "Epoch 67 | Validation loss: 35.811287901548894 | Validation AUC: 0.9955165392982651\n",
            "Epoch 68 | Training loss: 0.10888264777895529 | AUC: 1.0\n",
            "Epoch 68 | Validation loss: 35.94412799284328 | Validation AUC: 0.9955235120209739\n",
            "Epoch 69 | Training loss: 0.10345565171519411 | AUC: 1.0\n",
            "Epoch 69 | Validation loss: 35.98670133179985 | Validation AUC: 0.9955304847436827\n",
            "Epoch 70 | Training loss: 0.09575576365750749 | AUC: 1.0\n",
            "Epoch 70 | Validation loss: 36.217829244560505 | Validation AUC: 0.9955444301891002\n",
            "Epoch 71 | Training loss: 0.09003294500871561 | AUC: 1.0\n",
            "Epoch 71 | Validation loss: 36.24139812721478 | Validation AUC: 0.9955444301891002\n",
            "Epoch 72 | Training loss: 0.08454321962562972 | AUC: 1.0\n",
            "Epoch 72 | Validation loss: 36.279210336419055 | Validation AUC: 0.9955444301891002\n",
            "Epoch 73 | Training loss: 0.07882474709913367 | AUC: 1.0\n",
            "Epoch 73 | Validation loss: 36.47480161236308 | Validation AUC: 0.9955444301891002\n",
            "Epoch 74 | Training loss: 0.07490171487006592 | AUC: 1.0\n",
            "Epoch 74 | Validation loss: 36.73532655848794 | Validation AUC: 0.9955583756345178\n",
            "Epoch 75 | Training loss: 0.06984805623505963 | AUC: 1.0\n",
            "Epoch 75 | Validation loss: 36.66903011180693 | Validation AUC: 0.9955444301891002\n",
            "Epoch 76 | Training loss: 0.06594159555970691 | AUC: 1.0\n",
            "Epoch 76 | Validation loss: 36.702078567119315 | Validation AUC: 0.9955653483572265\n",
            "Epoch 77 | Training loss: 0.06174939307493332 | AUC: 1.0\n",
            "Epoch 77 | Validation loss: 36.7843877446212 | Validation AUC: 0.9955723210799353\n",
            "Epoch 78 | Training loss: 0.058048257742484566 | AUC: 1.0\n",
            "Epoch 78 | Validation loss: 36.996257007120676 | Validation AUC: 0.9955653483572265\n",
            "Epoch 79 | Training loss: 0.05450186938105617 | AUC: 1.0\n",
            "Epoch 79 | Validation loss: 37.26230802075588 | Validation AUC: 0.9955583756345178\n",
            "Epoch 80 | Training loss: 0.05142796154177631 | AUC: 1.0\n",
            "Epoch 80 | Validation loss: 37.35576403732739 | Validation AUC: 0.9955304847436827\n",
            "Epoch 81 | Training loss: 0.04801690402382519 | AUC: 1.0\n",
            "Epoch 81 | Validation loss: 37.62951394356787 | Validation AUC: 0.995551402911809\n",
            "Epoch 82 | Training loss: 0.04571946653959458 | AUC: 1.0\n",
            "Epoch 82 | Validation loss: 37.73063875722892 | Validation AUC: 0.9955444301891002\n",
            "Epoch 83 | Training loss: 0.042749403557536425 | AUC: 1.0\n",
            "Epoch 83 | Validation loss: 37.8617167314369 | Validation AUC: 0.9955304847436828\n",
            "Epoch 84 | Training loss: 0.040235238051536726 | AUC: 1.0\n",
            "Epoch 84 | Validation loss: 38.04920108048282 | Validation AUC: 0.9955374574663916\n",
            "Epoch 85 | Training loss: 0.03824644276937761 | AUC: 1.0\n",
            "Epoch 85 | Validation loss: 38.085116538451985 | Validation AUC: 0.9955374574663916\n",
            "Epoch 86 | Training loss: 0.03567655799452041 | AUC: 1.0\n",
            "Epoch 86 | Validation loss: 38.28234245677589 | Validation AUC: 0.9955374574663916\n",
            "Epoch 87 | Training loss: 0.033828929077571956 | AUC: 1.0\n",
            "Epoch 87 | Validation loss: 38.48277582797891 | Validation AUC: 0.9955304847436828\n",
            "Epoch 88 | Training loss: 0.031759508114191703 | AUC: 1.0\n",
            "Epoch 88 | Validation loss: 38.58250675145973 | Validation AUC: 0.9955374574663916\n",
            "Epoch 89 | Training loss: 0.02998344277148135 | AUC: 1.0\n",
            "Epoch 89 | Validation loss: 38.797603157108824 | Validation AUC: 0.995523512020974\n",
            "Epoch 90 | Training loss: 0.02834224701837229 | AUC: 1.0\n",
            "Epoch 90 | Validation loss: 38.86392795546203 | Validation AUC: 0.9955304847436828\n",
            "Epoch 91 | Training loss: 0.026787136634084163 | AUC: 1.0\n",
            "Epoch 91 | Validation loss: 38.97855186213701 | Validation AUC: 0.995523512020974\n",
            "Epoch 92 | Training loss: 0.02523454596484953 | AUC: 1.0\n",
            "Epoch 92 | Validation loss: 39.21704702074021 | Validation AUC: 0.9955165392982652\n",
            "Epoch 93 | Training loss: 0.023714743972959695 | AUC: 1.0\n",
            "Epoch 93 | Validation loss: 39.3705744778249 | Validation AUC: 0.9955165392982652\n",
            "Epoch 94 | Training loss: 0.022521615526784444 | AUC: 1.0\n",
            "Epoch 94 | Validation loss: 39.499123061832506 | Validation AUC: 0.9955165392982652\n",
            "Epoch 95 | Training loss: 0.021412940590380458 | AUC: 1.0\n",
            "Epoch 95 | Validation loss: 39.5706193750957 | Validation AUC: 0.995523512020974\n",
            "Epoch 96 | Training loss: 0.02009000261386973 | AUC: 1.0\n",
            "Epoch 96 | Validation loss: 39.767882643172925 | Validation AUC: 0.995523512020974\n",
            "Epoch 97 | Training loss: 0.019144095520459814 | AUC: 1.0\n",
            "Epoch 97 | Validation loss: 39.90461513254547 | Validation AUC: 0.995523512020974\n",
            "Epoch 98 | Training loss: 0.017955209847968945 | AUC: 1.0\n",
            "Epoch 98 | Validation loss: 40.11290347314207 | Validation AUC: 0.9955165392982652\n",
            "Epoch 99 | Training loss: 0.016988818800200534 | AUC: 1.0\n",
            "Epoch 99 | Validation loss: 40.21969528698537 | Validation AUC: 0.995523512020974\n"
          ]
        }
      ]
    },
    {
      "cell_type": "code",
      "source": [
        "# TODO\n",
        "# PLOT train loss and valid loss vs epochs\n",
        "# PLOT train auc and valid auc vs epochs"
      ],
      "metadata": {
        "id": "rR343x4qUvLC"
      },
      "execution_count": null,
      "outputs": []
    },
    {
      "cell_type": "code",
      "source": [
        "fig, ax1 = plt.subplots(1,1)\n",
        "x = range(0, len(train_auc))\n",
        "ax1.plot(x, train_auc)\n",
        "ax1.plot(x, valid_auc, 'r')\n",
        "plt.title('AUC vs epoch')\n",
        "plt.legend()\n",
        "\n"
      ],
      "metadata": {
        "id": "Y2SJaCiieOPK",
        "colab": {
          "base_uri": "https://localhost:8080/",
          "height": 317
        },
        "outputId": "c7b2a468-282f-4879-8bf1-f18dcc98e8e2"
      },
      "execution_count": 196,
      "outputs": [
        {
          "output_type": "stream",
          "name": "stderr",
          "text": [
            "WARNING:matplotlib.legend:No handles with labels found to put in legend.\n"
          ]
        },
        {
          "output_type": "execute_result",
          "data": {
            "text/plain": [
              "<matplotlib.legend.Legend at 0x7fdb0722d610>"
            ]
          },
          "metadata": {},
          "execution_count": 196
        },
        {
          "output_type": "display_data",
          "data": {
            "text/plain": [
              "<Figure size 432x288 with 1 Axes>"
            ],
            "image/png": "[encoded data removed]"
          },
          "metadata": {
            "needs_background": "light"
          }
        }
      ]
    },
    {
      "cell_type": "code",
      "source": [
        "fig, ax1 = plt.subplots(1,1)\n",
        "x = range(0, len(loss_list))\n",
        "ax1.plot(x, loss_list)\n",
        "ax1.plot(x, loss_valid_list, 'r')\n",
        "plt.title('Loss vs epoch')\n"
      ],
      "metadata": {
        "colab": {
          "base_uri": "https://localhost:8080/",
          "height": 299
        },
        "id": "8LRCf-bfQcD7",
        "outputId": "2e922eb3-5424-4ed0-e3ba-cb046c42bf86"
      },
      "execution_count": 195,
      "outputs": [
        {
          "output_type": "execute_result",
          "data": {
            "text/plain": [
              "Text(0.5, 1.0, 'Loss vs epoch')"
            ]
          },
          "metadata": {},
          "execution_count": 195
        },
        {
          "output_type": "display_data",
          "data": {
            "text/plain": [
              "<Figure size 432x288 with 1 Axes>"
            ],
            "image/png": "[encoded data removed]"
          },
          "metadata": {
            "needs_background": "light"
          }
        }
      ]
    },
    {
      "cell_type": "code",
      "source": [
        ""
      ],
      "metadata": {
        "id": "29ns7jJ_DXzX"
      },
      "execution_count": 186,
      "outputs": []
    }
  ]
}