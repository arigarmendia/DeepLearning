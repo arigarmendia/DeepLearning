{
  "nbformat": 4,
  "nbformat_minor": 0,
  "metadata": {
    "colab": {
      "name": "DL_C3_C4_Ariadna.ipynb",
      "provenance": []
    },
    "kernelspec": {
      "name": "python3",
      "display_name": "Python 3"
    },
    "language_info": {
      "name": "python"
    },
    "accelerator": "GPU",
    "gpuClass": "standard"
  },
  "cells": [
    {
      "cell_type": "code",
      "source": [
        "from google.colab import drive\n",
        "drive.mount('/content/drive')"
      ],
      "metadata": {
        "colab": {
          "base_uri": "https://localhost:8080/"
        },
        "id": "HdM4NWv2gJQk",
        "outputId": "622e7a0a-2020-46cb-c228-7d7d58d5cd06"
      },
      "execution_count": 1,
      "outputs": [
        {
          "output_type": "stream",
          "name": "stdout",
          "text": [
            "Mounted at /content/drive\n"
          ]
        }
      ]
    },
    {
      "cell_type": "code",
      "execution_count": 2,
      "metadata": {
        "id": "tRGoyK_dAJAN"
      },
      "outputs": [],
      "source": [
        "import pandas as pd\n",
        "df = pd.read_csv('/content/drive/MyDrive/Colab Notebooks/dataset_wine.csv')"
      ]
    },
    {
      "cell_type": "code",
      "source": [
        "len(df) # cantidad de filas"
      ],
      "metadata": {
        "colab": {
          "base_uri": "https://localhost:8080/"
        },
        "id": "KII75g_CA2FV",
        "outputId": "f4d469a5-2bc7-4d06-99ad-664d3a8bb571"
      },
      "execution_count": 3,
      "outputs": [
        {
          "output_type": "execute_result",
          "data": {
            "text/plain": [
              "6497"
            ]
          },
          "metadata": {},
          "execution_count": 3
        }
      ]
    },
    {
      "cell_type": "code",
      "source": [
        "df.info()"
      ],
      "metadata": {
        "colab": {
          "base_uri": "https://localhost:8080/"
        },
        "id": "-DwTipsfBKiU",
        "outputId": "310c50bb-b42f-4e71-94ab-f283fde5d52c"
      },
      "execution_count": 4,
      "outputs": [
        {
          "output_type": "stream",
          "name": "stdout",
          "text": [
            "<class 'pandas.core.frame.DataFrame'>\n",
            "RangeIndex: 6497 entries, 0 to 6496\n",
            "Data columns (total 15 columns):\n",
            " #   Column                Non-Null Count  Dtype  \n",
            "---  ------                --------------  -----  \n",
            " 0   Unnamed: 0            6497 non-null   int64  \n",
            " 1   type                  6497 non-null   object \n",
            " 2   fixed acidity         6487 non-null   float64\n",
            " 3   volatile acidity      6489 non-null   float64\n",
            " 4   citric acid           6494 non-null   float64\n",
            " 5   residual sugar        6495 non-null   float64\n",
            " 6   chlorides             6495 non-null   float64\n",
            " 7   free sulfur dioxide   6497 non-null   float64\n",
            " 8   total sulfur dioxide  6497 non-null   float64\n",
            " 9   density               6497 non-null   float64\n",
            " 10  pH                    6488 non-null   float64\n",
            " 11  sulphates             6493 non-null   float64\n",
            " 12  alcohol               6497 non-null   float64\n",
            " 13  quality               6497 non-null   int64  \n",
            " 14  vendor_id             6497 non-null   int64  \n",
            "dtypes: float64(11), int64(3), object(1)\n",
            "memory usage: 761.5+ KB\n"
          ]
        }
      ]
    },
    {
      "cell_type": "code",
      "source": [
        "print(df.head())"
      ],
      "metadata": {
        "colab": {
          "base_uri": "https://localhost:8080/"
        },
        "id": "m2DAOPQwBM3a",
        "outputId": "7e0705fe-e697-434b-a3b1-62790ecd1219"
      },
      "execution_count": 5,
      "outputs": [
        {
          "output_type": "stream",
          "name": "stdout",
          "text": [
            "   Unnamed: 0   type  fixed acidity  volatile acidity  citric acid  \\\n",
            "0           0  white            7.0              0.27         0.36   \n",
            "1           1  white            6.3              0.30         0.34   \n",
            "2           2  white            8.1              0.28         0.40   \n",
            "3           3  white            7.2              0.23         0.32   \n",
            "4           4  white            7.2              0.23         0.32   \n",
            "\n",
            "   residual sugar  chlorides  free sulfur dioxide  total sulfur dioxide  \\\n",
            "0            20.7      0.045                 45.0                 170.0   \n",
            "1             1.6      0.049                 14.0                 132.0   \n",
            "2             6.9      0.050                 30.0                  97.0   \n",
            "3             8.5      0.058                 47.0                 186.0   \n",
            "4             8.5      0.058                 47.0                 186.0   \n",
            "\n",
            "   density    pH  sulphates  alcohol  quality  vendor_id  \n",
            "0   1.0010  3.00       0.45      8.8        6        369  \n",
            "1   0.9940  3.30       0.49      9.5        6        361  \n",
            "2   0.9951  3.26       0.44     10.1        6        354  \n",
            "3   0.9956  3.19       0.40      9.9        6        325  \n",
            "4   0.9956  3.19       0.40      9.9        6        375  \n"
          ]
        }
      ]
    },
    {
      "cell_type": "code",
      "source": [
        "import numpy as np\n",
        "import torch\n",
        "import matplotlib.pyplot as plt\n",
        "from sklearn import preprocessing\n",
        "from scipy import stats"
      ],
      "metadata": {
        "id": "iGXt_8GFBlpm"
      },
      "execution_count": 6,
      "outputs": []
    },
    {
      "cell_type": "code",
      "source": [
        "print(np.min(df.quality))\n",
        "print(np.max(df.quality))"
      ],
      "metadata": {
        "colab": {
          "base_uri": "https://localhost:8080/"
        },
        "id": "NZGRUWXzBt2v",
        "outputId": "335a7cba-f0cf-4ee6-c31a-ca84e79b2041"
      },
      "execution_count": 7,
      "outputs": [
        {
          "output_type": "stream",
          "name": "stdout",
          "text": [
            "3\n",
            "9\n"
          ]
        }
      ]
    },
    {
      "cell_type": "code",
      "source": [
        "quality = df.quality.to_numpy()\n",
        "fix, ax1 = plt.subplots(1,1)\n",
        "ax1.hist(quality)"
      ],
      "metadata": {
        "colab": {
          "base_uri": "https://localhost:8080/",
          "height": 336
        },
        "id": "phs_G-OeCFGZ",
        "outputId": "4c63abbd-e575-4642-f38d-8e4cecdab77c"
      },
      "execution_count": 8,
      "outputs": [
        {
          "output_type": "execute_result",
          "data": {
            "text/plain": [
              "(array([  30.,  216.,    0., 2138.,    0., 2836., 1079.,    0.,  193.,\n",
              "           5.]),\n",
              " array([3. , 3.6, 4.2, 4.8, 5.4, 6. , 6.6, 7.2, 7.8, 8.4, 9. ]),\n",
              " <a list of 10 Patch objects>)"
            ]
          },
          "metadata": {},
          "execution_count": 8
        },
        {
          "output_type": "display_data",
          "data": {
            "text/plain": [
              "<Figure size 432x288 with 1 Axes>"
            ],
            "image/png": "[encoded data removed]"
          },
          "metadata": {
            "needs_background": "light"
          }
        }
      ]
    },
    {
      "cell_type": "code",
      "source": [
        "df[\"quality_label\"] = df.quality.apply(lambda label: 0 if label <= 6 else 1)\n",
        "print(len(df[df[\"quality_label\"] == 0])) # bad quality \n",
        "print(len(df[df[\"quality_label\"] == 1])) # good quality"
      ],
      "metadata": {
        "colab": {
          "base_uri": "https://localhost:8080/"
        },
        "id": "FxAaiN5qByyu",
        "outputId": "9c59d248-bef1-4dd1-8f4a-db33ca642716"
      },
      "execution_count": 9,
      "outputs": [
        {
          "output_type": "stream",
          "name": "stdout",
          "text": [
            "5220\n",
            "1277\n"
          ]
        }
      ]
    },
    {
      "cell_type": "code",
      "source": [
        "# clasificación binaria -> modelo tonto -> siempre devolver la clase mayoritaria\n",
        "# regresion -> modelo totno -> siempre devolver el promedio de tu salida"
      ],
      "metadata": {
        "id": "YOHKjGkECuMP"
      },
      "execution_count": 10,
      "outputs": []
    },
    {
      "cell_type": "markdown",
      "source": [
        "## Ingeniería de features"
      ],
      "metadata": {
        "id": "PzoEyU2lDwje"
      }
    },
    {
      "cell_type": "code",
      "source": [
        "df.info()"
      ],
      "metadata": {
        "colab": {
          "base_uri": "https://localhost:8080/"
        },
        "id": "xb-rkWybDy4P",
        "outputId": "acf72b5a-a4ab-4d28-ba13-2194afaf8feb"
      },
      "execution_count": 11,
      "outputs": [
        {
          "output_type": "stream",
          "name": "stdout",
          "text": [
            "<class 'pandas.core.frame.DataFrame'>\n",
            "RangeIndex: 6497 entries, 0 to 6496\n",
            "Data columns (total 16 columns):\n",
            " #   Column                Non-Null Count  Dtype  \n",
            "---  ------                --------------  -----  \n",
            " 0   Unnamed: 0            6497 non-null   int64  \n",
            " 1   type                  6497 non-null   object \n",
            " 2   fixed acidity         6487 non-null   float64\n",
            " 3   volatile acidity      6489 non-null   float64\n",
            " 4   citric acid           6494 non-null   float64\n",
            " 5   residual sugar        6495 non-null   float64\n",
            " 6   chlorides             6495 non-null   float64\n",
            " 7   free sulfur dioxide   6497 non-null   float64\n",
            " 8   total sulfur dioxide  6497 non-null   float64\n",
            " 9   density               6497 non-null   float64\n",
            " 10  pH                    6488 non-null   float64\n",
            " 11  sulphates             6493 non-null   float64\n",
            " 12  alcohol               6497 non-null   float64\n",
            " 13  quality               6497 non-null   int64  \n",
            " 14  vendor_id             6497 non-null   int64  \n",
            " 15  quality_label         6497 non-null   int64  \n",
            "dtypes: float64(11), int64(4), object(1)\n",
            "memory usage: 812.2+ KB\n"
          ]
        }
      ]
    },
    {
      "cell_type": "code",
      "source": [
        "# Analicemos la variable tipo\n",
        "print(df[\"type\"].unique())\n",
        "type_dummies = pd.get_dummies(df[\"type\"], prefix=\"type\") # -> one hot encoding\n",
        "type_dummies.info() \n",
        "\n",
        "# concatenar esta representación del type al dataset original\n",
        "dataset = pd.concat([df, type_dummies], axis=1)\n",
        "dataset.info()"
      ],
      "metadata": {
        "colab": {
          "base_uri": "https://localhost:8080/"
        },
        "id": "7flcpT4WEDqg",
        "outputId": "c66efd1c-85a6-4140-c83f-8db7d76b0d87"
      },
      "execution_count": 12,
      "outputs": [
        {
          "output_type": "stream",
          "name": "stdout",
          "text": [
            "['white' 'red']\n",
            "<class 'pandas.core.frame.DataFrame'>\n",
            "RangeIndex: 6497 entries, 0 to 6496\n",
            "Data columns (total 2 columns):\n",
            " #   Column      Non-Null Count  Dtype\n",
            "---  ------      --------------  -----\n",
            " 0   type_red    6497 non-null   uint8\n",
            " 1   type_white  6497 non-null   uint8\n",
            "dtypes: uint8(2)\n",
            "memory usage: 12.8 KB\n",
            "<class 'pandas.core.frame.DataFrame'>\n",
            "RangeIndex: 6497 entries, 0 to 6496\n",
            "Data columns (total 18 columns):\n",
            " #   Column                Non-Null Count  Dtype  \n",
            "---  ------                --------------  -----  \n",
            " 0   Unnamed: 0            6497 non-null   int64  \n",
            " 1   type                  6497 non-null   object \n",
            " 2   fixed acidity         6487 non-null   float64\n",
            " 3   volatile acidity      6489 non-null   float64\n",
            " 4   citric acid           6494 non-null   float64\n",
            " 5   residual sugar        6495 non-null   float64\n",
            " 6   chlorides             6495 non-null   float64\n",
            " 7   free sulfur dioxide   6497 non-null   float64\n",
            " 8   total sulfur dioxide  6497 non-null   float64\n",
            " 9   density               6497 non-null   float64\n",
            " 10  pH                    6488 non-null   float64\n",
            " 11  sulphates             6493 non-null   float64\n",
            " 12  alcohol               6497 non-null   float64\n",
            " 13  quality               6497 non-null   int64  \n",
            " 14  vendor_id             6497 non-null   int64  \n",
            " 15  quality_label         6497 non-null   int64  \n",
            " 16  type_red              6497 non-null   uint8  \n",
            " 17  type_white            6497 non-null   uint8  \n",
            "dtypes: float64(11), int64(4), object(1), uint8(2)\n",
            "memory usage: 824.9+ KB\n"
          ]
        }
      ]
    },
    {
      "cell_type": "code",
      "source": [
        "# Analicemos la vendor_id\n",
        "print(len(dataset[\"vendor_id\"].unique())) # -> embeddings"
      ],
      "metadata": {
        "colab": {
          "base_uri": "https://localhost:8080/"
        },
        "id": "vtKdw58tEORZ",
        "outputId": "45f96f4a-3c2a-419f-8b7d-cb5440ab3262"
      },
      "execution_count": 13,
      "outputs": [
        {
          "output_type": "stream",
          "name": "stdout",
          "text": [
            "500\n"
          ]
        }
      ]
    },
    {
      "cell_type": "code",
      "source": [
        ""
      ],
      "metadata": {
        "id": "dMwKiCmNFSSe"
      },
      "execution_count": 13,
      "outputs": []
    },
    {
      "cell_type": "markdown",
      "source": [
        "# Limpiar el dataset removiendo nans"
      ],
      "metadata": {
        "id": "y-8seDrIGuGr"
      }
    },
    {
      "cell_type": "code",
      "source": [
        "nans = dataset[dataset.isna().sum(axis=1) >= 1]\n",
        "print(nans.shape)"
      ],
      "metadata": {
        "colab": {
          "base_uri": "https://localhost:8080/"
        },
        "id": "L15QLFCnGwEb",
        "outputId": "aa321f78-4bc7-47bb-9aa9-5f2fcac6a885"
      },
      "execution_count": 14,
      "outputs": [
        {
          "output_type": "stream",
          "name": "stdout",
          "text": [
            "(34, 18)\n"
          ]
        }
      ]
    },
    {
      "cell_type": "code",
      "source": [
        "dataset = dataset[dataset.isna().sum(axis=1) == 0]\n",
        "print(dataset.shape)"
      ],
      "metadata": {
        "colab": {
          "base_uri": "https://localhost:8080/"
        },
        "id": "RT1EvF9RHFHn",
        "outputId": "ce88f6a6-f52c-4f33-a548-528781870e35"
      },
      "execution_count": 15,
      "outputs": [
        {
          "output_type": "stream",
          "name": "stdout",
          "text": [
            "(6463, 18)\n"
          ]
        }
      ]
    },
    {
      "cell_type": "code",
      "source": [
        "y = dataset[\"quality_label\"]\n",
        "vendor_id = dataset[\"vendor_id\"]\n",
        "X = dataset.drop([\"Unnamed: 0\", \"type\", \"quality\", \"quality_label\", \"vendor_id\"], axis=1)\n"
      ],
      "metadata": {
        "id": "vVA38HoBHbqS"
      },
      "execution_count": 16,
      "outputs": []
    },
    {
      "cell_type": "code",
      "source": [
        ""
      ],
      "metadata": {
        "id": "1ID6WuAmIsL-"
      },
      "execution_count": 16,
      "outputs": []
    },
    {
      "cell_type": "markdown",
      "source": [
        "## Normalización"
      ],
      "metadata": {
        "id": "xuuiz94jL95V"
      }
    },
    {
      "cell_type": "code",
      "source": [
        "X_norm = (X - np.min(X, axis=0)) / (np.max(X, axis=0) - np.min(X, axis=0))"
      ],
      "metadata": {
        "id": "4ZziRQRGL_fN"
      },
      "execution_count": 17,
      "outputs": []
    },
    {
      "cell_type": "code",
      "source": [
        "print(np.min(X_norm, axis=0))\n",
        "print(np.max(X_norm, axis=0))"
      ],
      "metadata": {
        "colab": {
          "base_uri": "https://localhost:8080/"
        },
        "id": "heiUcF4-OeKI",
        "outputId": "9d6395d2-f873-4d8b-ea9d-8c1c9f3e90f6"
      },
      "execution_count": 18,
      "outputs": [
        {
          "output_type": "stream",
          "name": "stdout",
          "text": [
            "fixed acidity           0.0\n",
            "volatile acidity        0.0\n",
            "citric acid             0.0\n",
            "residual sugar          0.0\n",
            "chlorides               0.0\n",
            "free sulfur dioxide     0.0\n",
            "total sulfur dioxide    0.0\n",
            "density                 0.0\n",
            "pH                      0.0\n",
            "sulphates               0.0\n",
            "alcohol                 0.0\n",
            "type_red                0.0\n",
            "type_white              0.0\n",
            "dtype: float64\n",
            "fixed acidity           1.0\n",
            "volatile acidity        1.0\n",
            "citric acid             1.0\n",
            "residual sugar          1.0\n",
            "chlorides               1.0\n",
            "free sulfur dioxide     1.0\n",
            "total sulfur dioxide    1.0\n",
            "density                 1.0\n",
            "pH                      1.0\n",
            "sulphates               1.0\n",
            "alcohol                 1.0\n",
            "type_red                1.0\n",
            "type_white              1.0\n",
            "dtype: float64\n"
          ]
        }
      ]
    },
    {
      "cell_type": "code",
      "source": [
        "X_norm.describe()"
      ],
      "metadata": {
        "colab": {
          "base_uri": "https://localhost:8080/",
          "height": 0
        },
        "id": "ik1CR2FtOqzI",
        "outputId": "2332b3df-bc4c-4f30-f6fd-a1d31f1450d6"
      },
      "execution_count": 19,
      "outputs": [
        {
          "output_type": "execute_result",
          "data": {
            "text/plain": [
              "       fixed acidity  volatile acidity  citric acid  residual sugar  \\\n",
              "count    6463.000000       6463.000000  6463.000000     6463.000000   \n",
              "mean        0.282459          0.173059     0.192023        0.074294   \n",
              "std         0.107266          0.109759     0.087501        0.072958   \n",
              "min         0.000000          0.000000     0.000000        0.000000   \n",
              "25%         0.214876          0.100000     0.150602        0.018405   \n",
              "50%         0.264463          0.140000     0.186747        0.036810   \n",
              "75%         0.322314          0.213333     0.234940        0.115031   \n",
              "max         1.000000          1.000000     1.000000        1.000000   \n",
              "\n",
              "         chlorides  free sulfur dioxide  total sulfur dioxide      density  \\\n",
              "count  6463.000000          6463.000000           6463.000000  6463.000000   \n",
              "mean      0.078166             0.102489              0.252752     0.146283   \n",
              "std       0.058265             0.061663              0.130246     0.057865   \n",
              "min       0.000000             0.000000              0.000000     0.000000   \n",
              "25%       0.048173             0.055556              0.163594     0.100636   \n",
              "50%       0.063123             0.097222              0.258065     0.149990   \n",
              "75%       0.093023             0.138889              0.345622     0.190669   \n",
              "max       1.000000             1.000000              1.000000     1.000000   \n",
              "\n",
              "                pH    sulphates      alcohol     type_red   type_white  \n",
              "count  6463.000000  6463.000000  6463.000000  6463.000000  6463.000000  \n",
              "mean      0.386304     0.174803     0.361279     0.246480     0.753520  \n",
              "std       0.124535     0.083659     0.172917     0.430995     0.430995  \n",
              "min       0.000000     0.000000     0.000000     0.000000     0.000000  \n",
              "25%       0.302326     0.117978     0.217391     0.000000     1.000000  \n",
              "50%       0.379845     0.162921     0.333333     0.000000     1.000000  \n",
              "75%       0.465116     0.213483     0.478261     0.000000     1.000000  \n",
              "max       1.000000     1.000000     1.000000     1.000000     1.000000  "
            ],
            "text/html": [
              "\n",
              "  <div id=\"df-00e7f107-630d-4db4-b3ff-6d51336cd6bd\">\n",
              "    <div class=\"colab-df-container\">\n",
              "      <div>\n",
              "<style scoped>\n",
              "    .dataframe tbody tr th:only-of-type {\n",
              "        vertical-align: middle;\n",
              "    }\n",
              "\n",
              "    .dataframe tbody tr th {\n",
              "        vertical-align: top;\n",
              "    }\n",
              "\n",
              "    .dataframe thead th {\n",
              "        text-align: right;\n",
              "    }\n",
              "</style>\n",
              "<table border=\"1\" class=\"dataframe\">\n",
              "  <thead>\n",
              "    <tr style=\"text-align: right;\">\n",
              "      <th></th>\n",
              "      <th>fixed acidity</th>\n",
              "      <th>volatile acidity</th>\n",
              "      <th>citric acid</th>\n",
              "      <th>residual sugar</th>\n",
              "      <th>chlorides</th>\n",
              "      <th>free sulfur dioxide</th>\n",
              "      <th>total sulfur dioxide</th>\n",
              "      <th>density</th>\n",
              "      <th>pH</th>\n",
              "      <th>sulphates</th>\n",
              "      <th>alcohol</th>\n",
              "      <th>type_red</th>\n",
              "      <th>type_white</th>\n",
              "    </tr>\n",
              "  </thead>\n",
              "  <tbody>\n",
              "    <tr>\n",
              "      <th>count</th>\n",
              "      <td>6463.000000</td>\n",
              "      <td>6463.000000</td>\n",
              "      <td>6463.000000</td>\n",
              "      <td>6463.000000</td>\n",
              "      <td>6463.000000</td>\n",
              "      <td>6463.000000</td>\n",
              "      <td>6463.000000</td>\n",
              "      <td>6463.000000</td>\n",
              "      <td>6463.000000</td>\n",
              "      <td>6463.000000</td>\n",
              "      <td>6463.000000</td>\n",
              "      <td>6463.000000</td>\n",
              "      <td>6463.000000</td>\n",
              "    </tr>\n",
              "    <tr>\n",
              "      <th>mean</th>\n",
              "      <td>0.282459</td>\n",
              "      <td>0.173059</td>\n",
              "      <td>0.192023</td>\n",
              "      <td>0.074294</td>\n",
              "      <td>0.078166</td>\n",
              "      <td>0.102489</td>\n",
              "      <td>0.252752</td>\n",
              "      <td>0.146283</td>\n",
              "      <td>0.386304</td>\n",
              "      <td>0.174803</td>\n",
              "      <td>0.361279</td>\n",
              "      <td>0.246480</td>\n",
              "      <td>0.753520</td>\n",
              "    </tr>\n",
              "    <tr>\n",
              "      <th>std</th>\n",
              "      <td>0.107266</td>\n",
              "      <td>0.109759</td>\n",
              "      <td>0.087501</td>\n",
              "      <td>0.072958</td>\n",
              "      <td>0.058265</td>\n",
              "      <td>0.061663</td>\n",
              "      <td>0.130246</td>\n",
              "      <td>0.057865</td>\n",
              "      <td>0.124535</td>\n",
              "      <td>0.083659</td>\n",
              "      <td>0.172917</td>\n",
              "      <td>0.430995</td>\n",
              "      <td>0.430995</td>\n",
              "    </tr>\n",
              "    <tr>\n",
              "      <th>min</th>\n",
              "      <td>0.000000</td>\n",
              "      <td>0.000000</td>\n",
              "      <td>0.000000</td>\n",
              "      <td>0.000000</td>\n",
              "      <td>0.000000</td>\n",
              "      <td>0.000000</td>\n",
              "      <td>0.000000</td>\n",
              "      <td>0.000000</td>\n",
              "      <td>0.000000</td>\n",
              "      <td>0.000000</td>\n",
              "      <td>0.000000</td>\n",
              "      <td>0.000000</td>\n",
              "      <td>0.000000</td>\n",
              "    </tr>\n",
              "    <tr>\n",
              "      <th>25%</th>\n",
              "      <td>0.214876</td>\n",
              "      <td>0.100000</td>\n",
              "      <td>0.150602</td>\n",
              "      <td>0.018405</td>\n",
              "      <td>0.048173</td>\n",
              "      <td>0.055556</td>\n",
              "      <td>0.163594</td>\n",
              "      <td>0.100636</td>\n",
              "      <td>0.302326</td>\n",
              "      <td>0.117978</td>\n",
              "      <td>0.217391</td>\n",
              "      <td>0.000000</td>\n",
              "      <td>1.000000</td>\n",
              "    </tr>\n",
              "    <tr>\n",
              "      <th>50%</th>\n",
              "      <td>0.264463</td>\n",
              "      <td>0.140000</td>\n",
              "      <td>0.186747</td>\n",
              "      <td>0.036810</td>\n",
              "      <td>0.063123</td>\n",
              "      <td>0.097222</td>\n",
              "      <td>0.258065</td>\n",
              "      <td>0.149990</td>\n",
              "      <td>0.379845</td>\n",
              "      <td>0.162921</td>\n",
              "      <td>0.333333</td>\n",
              "      <td>0.000000</td>\n",
              "      <td>1.000000</td>\n",
              "    </tr>\n",
              "    <tr>\n",
              "      <th>75%</th>\n",
              "      <td>0.322314</td>\n",
              "      <td>0.213333</td>\n",
              "      <td>0.234940</td>\n",
              "      <td>0.115031</td>\n",
              "      <td>0.093023</td>\n",
              "      <td>0.138889</td>\n",
              "      <td>0.345622</td>\n",
              "      <td>0.190669</td>\n",
              "      <td>0.465116</td>\n",
              "      <td>0.213483</td>\n",
              "      <td>0.478261</td>\n",
              "      <td>0.000000</td>\n",
              "      <td>1.000000</td>\n",
              "    </tr>\n",
              "    <tr>\n",
              "      <th>max</th>\n",
              "      <td>1.000000</td>\n",
              "      <td>1.000000</td>\n",
              "      <td>1.000000</td>\n",
              "      <td>1.000000</td>\n",
              "      <td>1.000000</td>\n",
              "      <td>1.000000</td>\n",
              "      <td>1.000000</td>\n",
              "      <td>1.000000</td>\n",
              "      <td>1.000000</td>\n",
              "      <td>1.000000</td>\n",
              "      <td>1.000000</td>\n",
              "      <td>1.000000</td>\n",
              "      <td>1.000000</td>\n",
              "    </tr>\n",
              "  </tbody>\n",
              "</table>\n",
              "</div>\n",
              "      <button class=\"colab-df-convert\" onclick=\"convertToInteractive('df-00e7f107-630d-4db4-b3ff-6d51336cd6bd')\"\n",
              "              title=\"Convert this dataframe to an interactive table.\"\n",
              "              style=\"display:none;\">\n",
              "        \n",
              "  <svg xmlns=\"http://www.w3.org/2000/svg\" height=\"24px\"viewBox=\"0 0 24 24\"\n",
              "       width=\"24px\">\n",
              "    <path d=\"M0 0h24v24H0V0z\" fill=\"none\"/>\n",
              "    <path d=\"M18.56 5.44l.94 2.06.94-2.06 2.06-.94-2.06-.94-.94-2.06-.94 2.06-2.06.94zm-11 1L8.5 8.5l.94-2.06 2.06-.94-2.06-.94L8.5 2.5l-.94 2.06-2.06.94zm10 10l.94 2.06.94-2.06 2.06-.94-2.06-.94-.94-2.06-.94 2.06-2.06.94z\"/><path d=\"M17.41 7.96l-1.37-1.37c-.4-.4-.92-.59-1.43-.59-.52 0-1.04.2-1.43.59L10.3 9.45l-7.72 7.72c-.78.78-.78 2.05 0 2.83L4 21.41c.39.39.9.59 1.41.59.51 0 1.02-.2 1.41-.59l7.78-7.78 2.81-2.81c.8-.78.8-2.07 0-2.86zM5.41 20L4 18.59l7.72-7.72 1.47 1.35L5.41 20z\"/>\n",
              "  </svg>\n",
              "      </button>\n",
              "      \n",
              "  <style>\n",
              "    .colab-df-container {\n",
              "      display:flex;\n",
              "      flex-wrap:wrap;\n",
              "      gap: 12px;\n",
              "    }\n",
              "\n",
              "    .colab-df-convert {\n",
              "      background-color: #E8F0FE;\n",
              "      border: none;\n",
              "      border-radius: 50%;\n",
              "      cursor: pointer;\n",
              "      display: none;\n",
              "      fill: #1967D2;\n",
              "      height: 32px;\n",
              "      padding: 0 0 0 0;\n",
              "      width: 32px;\n",
              "    }\n",
              "\n",
              "    .colab-df-convert:hover {\n",
              "      background-color: #E2EBFA;\n",
              "      box-shadow: 0px 1px 2px rgba(60, 64, 67, 0.3), 0px 1px 3px 1px rgba(60, 64, 67, 0.15);\n",
              "      fill: #174EA6;\n",
              "    }\n",
              "\n",
              "    [theme=dark] .colab-df-convert {\n",
              "      background-color: #3B4455;\n",
              "      fill: #D2E3FC;\n",
              "    }\n",
              "\n",
              "    [theme=dark] .colab-df-convert:hover {\n",
              "      background-color: #434B5C;\n",
              "      box-shadow: 0px 1px 3px 1px rgba(0, 0, 0, 0.15);\n",
              "      filter: drop-shadow(0px 1px 2px rgba(0, 0, 0, 0.3));\n",
              "      fill: #FFFFFF;\n",
              "    }\n",
              "  </style>\n",
              "\n",
              "      <script>\n",
              "        const buttonEl =\n",
              "          document.querySelector('#df-00e7f107-630d-4db4-b3ff-6d51336cd6bd button.colab-df-convert');\n",
              "        buttonEl.style.display =\n",
              "          google.colab.kernel.accessAllowed ? 'block' : 'none';\n",
              "\n",
              "        async function convertToInteractive(key) {\n",
              "          const element = document.querySelector('#df-00e7f107-630d-4db4-b3ff-6d51336cd6bd');\n",
              "          const dataTable =\n",
              "            await google.colab.kernel.invokeFunction('convertToInteractive',\n",
              "                                                     [key], {});\n",
              "          if (!dataTable) return;\n",
              "\n",
              "          const docLinkHtml = 'Like what you see? Visit the ' +\n",
              "            '<a target=\"_blank\" href=https://colab.research.google.com/notebooks/data_table.ipynb>data table notebook</a>'\n",
              "            + ' to learn more about interactive tables.';\n",
              "          element.innerHTML = '';\n",
              "          dataTable['output_type'] = 'display_data';\n",
              "          await google.colab.output.renderOutput(dataTable, element);\n",
              "          const docLink = document.createElement('div');\n",
              "          docLink.innerHTML = docLinkHtml;\n",
              "          element.appendChild(docLink);\n",
              "        }\n",
              "      </script>\n",
              "    </div>\n",
              "  </div>\n",
              "  "
            ]
          },
          "metadata": {},
          "execution_count": 19
        }
      ]
    },
    {
      "cell_type": "code",
      "source": [
        ""
      ],
      "metadata": {
        "id": "F2zR1-ZoOx-L"
      },
      "execution_count": 19,
      "outputs": []
    },
    {
      "cell_type": "markdown",
      "source": [
        "# Split"
      ],
      "metadata": {
        "id": "9OVB0QPQPGUK"
      }
    },
    {
      "cell_type": "code",
      "source": [
        "X_norm = X_norm.to_numpy()\n",
        "y = y.to_numpy()\n",
        "n = X_norm.shape[0]\n",
        "print(n)\n",
        "idx = np.random.permutation(np.arange(0, n))\n",
        "train_idx = idx[0:int(0.85 * n)]\n",
        "valid_idx = idx[int(0.85 * n):]\n",
        "print(len(train_idx))\n",
        "print(len(valid_idx))\n",
        "\n",
        "# train -> entrenar tu modelo (80%)\n",
        "# valid -> encontrar los HPs (10%)\n",
        "# test -> calcular las metricas finales (10%)"
      ],
      "metadata": {
        "colab": {
          "base_uri": "https://localhost:8080/"
        },
        "id": "hHP6Qt2IPHiy",
        "outputId": "74210b80-2481-4550-ebbd-d5f333d82083"
      },
      "execution_count": 20,
      "outputs": [
        {
          "output_type": "stream",
          "name": "stdout",
          "text": [
            "6463\n",
            "5493\n",
            "970\n"
          ]
        }
      ]
    },
    {
      "cell_type": "code",
      "source": [
        "X_train = X_norm[train_idx,:]\n",
        "y_train = y[train_idx]\n",
        "X_valid = X_norm[valid_idx,:]\n",
        "y_valid = y[valid_idx]\n",
        "\n",
        "print(X_train.shape)\n",
        "print(y_train.shape)\n",
        "print(X_valid.shape)\n",
        "print(y_valid.shape)"
      ],
      "metadata": {
        "colab": {
          "base_uri": "https://localhost:8080/"
        },
        "id": "AfhwVo_XPLuz",
        "outputId": "7b728129-962c-46f6-fb0f-a85961675e63"
      },
      "execution_count": 21,
      "outputs": [
        {
          "output_type": "stream",
          "name": "stdout",
          "text": [
            "(5493, 13)\n",
            "(5493,)\n",
            "(970, 13)\n",
            "(970,)\n"
          ]
        }
      ]
    },
    {
      "cell_type": "code",
      "source": [
        ""
      ],
      "metadata": {
        "id": "ai4u0en5PVE7"
      },
      "execution_count": 21,
      "outputs": []
    },
    {
      "cell_type": "markdown",
      "source": [
        "# NNet sin embeddings"
      ],
      "metadata": {
        "id": "29g8DEnCRC8o"
      }
    },
    {
      "cell_type": "code",
      "source": [
        "import torch\n",
        "from torch.utils.data import Dataset, DataLoader\n",
        "from sklearn import metrics"
      ],
      "metadata": {
        "id": "ew8ngMTnREbx"
      },
      "execution_count": 22,
      "outputs": []
    },
    {
      "cell_type": "code",
      "source": [
        "class MyDataset(Dataset):\n",
        "\n",
        "    def __init__(self, X, y):\n",
        "        super().__init__()\n",
        "        self.X = X\n",
        "        self.y = y\n",
        "\n",
        "    def __len__(self):\n",
        "        return self.X.shape[0]\n",
        "\n",
        "    def __getitem__(self, idx):\n",
        "        return self.X[idx], self.y[idx]"
      ],
      "metadata": {
        "id": "QOKrevWwRMui"
      },
      "execution_count": 23,
      "outputs": []
    },
    {
      "cell_type": "code",
      "source": [
        "train = MyDataset(X_train, y_train)"
      ],
      "metadata": {
        "id": "IfylgH5FRtBF"
      },
      "execution_count": 24,
      "outputs": []
    },
    {
      "cell_type": "code",
      "source": [
        "len(train)"
      ],
      "metadata": {
        "colab": {
          "base_uri": "https://localhost:8080/"
        },
        "id": "xwotH3TkSOfv",
        "outputId": "fdb8e687-c203-4f0a-a488-381d1b4906fa"
      },
      "execution_count": 25,
      "outputs": [
        {
          "output_type": "execute_result",
          "data": {
            "text/plain": [
              "5493"
            ]
          },
          "metadata": {},
          "execution_count": 25
        }
      ]
    },
    {
      "cell_type": "code",
      "source": [
        "X0, y0 = train[0]"
      ],
      "metadata": {
        "id": "Ch3k54ntSROu"
      },
      "execution_count": 26,
      "outputs": []
    },
    {
      "cell_type": "code",
      "source": [
        "X0.shape"
      ],
      "metadata": {
        "colab": {
          "base_uri": "https://localhost:8080/"
        },
        "id": "XkxbziOhScFv",
        "outputId": "1e49cd9e-2323-4657-dcbc-14f6222d8fba"
      },
      "execution_count": 27,
      "outputs": [
        {
          "output_type": "execute_result",
          "data": {
            "text/plain": [
              "(13,)"
            ]
          },
          "metadata": {},
          "execution_count": 27
        }
      ]
    },
    {
      "cell_type": "code",
      "source": [
        "X_train.shape"
      ],
      "metadata": {
        "colab": {
          "base_uri": "https://localhost:8080/"
        },
        "id": "1V-3f7QKSgag",
        "outputId": "2a62cc56-9246-4bd0-be47-a0da094beefe"
      },
      "execution_count": 28,
      "outputs": [
        {
          "output_type": "execute_result",
          "data": {
            "text/plain": [
              "(5493, 13)"
            ]
          },
          "metadata": {},
          "execution_count": 28
        }
      ]
    },
    {
      "cell_type": "code",
      "source": [
        "y0"
      ],
      "metadata": {
        "colab": {
          "base_uri": "https://localhost:8080/"
        },
        "id": "iB5NNBRRSi5g",
        "outputId": "52033c06-5c5b-4a8d-c04e-a42107e137a9"
      },
      "execution_count": 29,
      "outputs": [
        {
          "output_type": "execute_result",
          "data": {
            "text/plain": [
              "0"
            ]
          },
          "metadata": {},
          "execution_count": 29
        }
      ]
    },
    {
      "cell_type": "code",
      "source": [
        "valid = MyDataset(X_valid, y_valid)"
      ],
      "metadata": {
        "id": "ssMZMDJRSn0h"
      },
      "execution_count": 30,
      "outputs": []
    },
    {
      "cell_type": "code",
      "source": [
        "len(valid)"
      ],
      "metadata": {
        "colab": {
          "base_uri": "https://localhost:8080/"
        },
        "id": "9XxU-vPzSs3R",
        "outputId": "49a1562e-7ceb-4866-c732-6cb8d07e72e9"
      },
      "execution_count": 31,
      "outputs": [
        {
          "output_type": "execute_result",
          "data": {
            "text/plain": [
              "970"
            ]
          },
          "metadata": {},
          "execution_count": 31
        }
      ]
    },
    {
      "cell_type": "code",
      "source": [
        "print(X0)"
      ],
      "metadata": {
        "colab": {
          "base_uri": "https://localhost:8080/"
        },
        "id": "KlCqxEeFSt8S",
        "outputId": "3a29d96d-65a3-4378-edc0-1d4dba866877"
      },
      "execution_count": 32,
      "outputs": [
        {
          "output_type": "stream",
          "name": "stdout",
          "text": [
            "[0.30578512 0.34       0.13253012 0.01840491 0.12126246 0.14583333\n",
            " 0.12442396 0.15191826 0.29457364 0.11235955 0.17391304 1.\n",
            " 0.        ]\n"
          ]
        }
      ]
    },
    {
      "cell_type": "code",
      "source": [
        "train_dataloader = DataLoader(train, batch_size=64, shuffle=True)\n",
        "valid_dataloader = DataLoader(valid, batch_size=64, shuffle=True)"
      ],
      "metadata": {
        "id": "K4ByVtwgSxEa"
      },
      "execution_count": 33,
      "outputs": []
    },
    {
      "cell_type": "code",
      "source": [
        "batch_1 = next(iter(train_dataloader))"
      ],
      "metadata": {
        "id": "321dr8dCT4wz"
      },
      "execution_count": 34,
      "outputs": []
    },
    {
      "cell_type": "code",
      "source": [
        "type(batch_1)"
      ],
      "metadata": {
        "colab": {
          "base_uri": "https://localhost:8080/"
        },
        "id": "bOU8Nm17UNhN",
        "outputId": "b0670343-5e5b-4b64-c9d2-cb2678bdfff7"
      },
      "execution_count": 35,
      "outputs": [
        {
          "output_type": "execute_result",
          "data": {
            "text/plain": [
              "list"
            ]
          },
          "metadata": {},
          "execution_count": 35
        }
      ]
    },
    {
      "cell_type": "code",
      "source": [
        "len(batch_1)"
      ],
      "metadata": {
        "colab": {
          "base_uri": "https://localhost:8080/"
        },
        "id": "z-YMYZirUTwO",
        "outputId": "8b766557-8e10-4a37-f332-9b2f792c1d75"
      },
      "execution_count": 36,
      "outputs": [
        {
          "output_type": "execute_result",
          "data": {
            "text/plain": [
              "2"
            ]
          },
          "metadata": {},
          "execution_count": 36
        }
      ]
    },
    {
      "cell_type": "code",
      "source": [
        "type(batch_1[0])"
      ],
      "metadata": {
        "colab": {
          "base_uri": "https://localhost:8080/"
        },
        "id": "6jrte7jCUV6O",
        "outputId": "435f5e36-f73f-4a53-87de-562a03bf47ac"
      },
      "execution_count": 37,
      "outputs": [
        {
          "output_type": "execute_result",
          "data": {
            "text/plain": [
              "torch.Tensor"
            ]
          },
          "metadata": {},
          "execution_count": 37
        }
      ]
    },
    {
      "cell_type": "code",
      "source": [
        "print(batch_1[0].shape) # -> 64 filas de X_train (dataset de entrenamiento)"
      ],
      "metadata": {
        "colab": {
          "base_uri": "https://localhost:8080/"
        },
        "id": "w5rWRYS0UbJJ",
        "outputId": "d62e72cf-20c1-4a6b-f563-5e04c970b009"
      },
      "execution_count": 38,
      "outputs": [
        {
          "output_type": "stream",
          "name": "stdout",
          "text": [
            "torch.Size([64, 13])\n"
          ]
        }
      ]
    },
    {
      "cell_type": "code",
      "source": [
        "print(batch_1[1].shape) # -> 64 filas de y_train (label)"
      ],
      "metadata": {
        "colab": {
          "base_uri": "https://localhost:8080/"
        },
        "id": "ptE4qNlTUmA4",
        "outputId": "323c2149-8574-44ec-f74e-97e20f8f5ed6"
      },
      "execution_count": 39,
      "outputs": [
        {
          "output_type": "stream",
          "name": "stdout",
          "text": [
            "torch.Size([64])\n"
          ]
        }
      ]
    },
    {
      "cell_type": "code",
      "source": [
        "class NNet(torch.nn.Module):\n",
        "\n",
        "    def __init__(self):\n",
        "        super().__init__()\n",
        "        self.linear_1 = torch.nn.Linear(in_features=13, out_features=100, bias=True)\n",
        "        self.relu_1 = torch.nn.ReLU()\n",
        "        self.linear_2 = torch.nn.Linear(in_features=100, out_features=50, bias=True)\n",
        "        self.relu_2 = torch.nn.ReLU()\n",
        "        self.output = torch.nn.Linear(in_features=50, out_features=1, bias=True)\n",
        "\n",
        "    def forward(self, x): # x.shape -> 64 x 13\n",
        "        x = self.linear_1(x) # x.shape -> 64 x 100 \n",
        "        #print(x.shape)\n",
        "        x = self.relu_1(x) # x.shape -> 64 x 100\n",
        "        #print(x.shape)\n",
        "        x = self.linear_2(x) # x.shape -> 64 x 50\n",
        "        #print(x.shape)\n",
        "        x = self.relu_2(x) # x.shape -> 64 x 50\n",
        "        #print(x.shape)\n",
        "        x = self.output(x) # x.shape -> 64 x 1\n",
        "        return x"
      ],
      "metadata": {
        "id": "JsX0C6U8UrXE"
      },
      "execution_count": 40,
      "outputs": []
    },
    {
      "cell_type": "code",
      "source": [
        "nnet = NNet()"
      ],
      "metadata": {
        "id": "kYb1Xz-dWGuF"
      },
      "execution_count": 41,
      "outputs": []
    },
    {
      "cell_type": "code",
      "source": [
        "x_batch = next(iter(train_dataloader))[0]\n",
        "print(type(x_batch))\n",
        "x_batch = x_batch.float()\n",
        "y_batch = nnet(x_batch)\n",
        "print(x_batch.shape)\n",
        "print(y_batch.shape)"
      ],
      "metadata": {
        "colab": {
          "base_uri": "https://localhost:8080/"
        },
        "id": "-wHF-eCeaAvC",
        "outputId": "2cac7814-c33b-4e95-c518-94556cbda578"
      },
      "execution_count": 42,
      "outputs": [
        {
          "output_type": "stream",
          "name": "stdout",
          "text": [
            "<class 'torch.Tensor'>\n",
            "torch.Size([64, 13])\n",
            "torch.Size([64, 1])\n"
          ]
        }
      ]
    },
    {
      "cell_type": "code",
      "source": [
        "optimizer = torch.optim.Adam(nnet.parameters(), lr=0.001)\n",
        "loss_function = torch.nn.BCEWithLogitsLoss(reduction=\"sum\")"
      ],
      "metadata": {
        "id": "ti73yFR5ajxN"
      },
      "execution_count": 43,
      "outputs": []
    },
    {
      "cell_type": "code",
      "source": [
        "device = \"\"\n",
        "if torch.cuda.is_available():\n",
        "    device = \"cuda:0\"\n",
        "else:\n",
        "    device = \"cpu\"\n",
        "\n",
        "print(device)"
      ],
      "metadata": {
        "colab": {
          "base_uri": "https://localhost:8080/"
        },
        "id": "VpqrLBLYb1Bo",
        "outputId": "3bd01c67-006b-4e80-c409-e9d6f06c19c8"
      },
      "execution_count": 44,
      "outputs": [
        {
          "output_type": "stream",
          "name": "stdout",
          "text": [
            "cuda:0\n"
          ]
        }
      ]
    },
    {
      "cell_type": "code",
      "source": [
        "nnet.to(device)\n",
        "\n",
        "loss_list = []\n",
        "train_auc = []\n",
        "for epoch in range(100):\n",
        "\n",
        "    running_loss = 0\n",
        "    running_y_score = []\n",
        "    running_y_label = []\n",
        "    for i, data in enumerate(train_dataloader):\n",
        "\n",
        "        # datos del batch\n",
        "        X_batch, y_batch = data \n",
        "        X_batch = X_batch.to(device).float()\n",
        "        Y_batch = y_batch.to(device).float()\n",
        "\n",
        "        # forward\n",
        "        optimizer.zero_grad()\n",
        "        y_batch_score = nnet(X_batch).reshape(-1)\n",
        "        y_batch_hat = torch.sigmoid(y_batch_score).reshape(-1)\n",
        "\n",
        "        # backpropagation\n",
        "        loss = loss_function(y_batch_score, Y_batch) # calcula el loss\n",
        "        loss.backward() # hacer los gradientes del loss\n",
        "\n",
        "        # actualización de parametros\n",
        "        optimizer.step() \n",
        "\n",
        "        running_loss += loss.item()\n",
        "        running_y_score += list(y_batch_score.detach().cpu().numpy())  \n",
        "        running_y_label += list(Y_batch.detach().cpu().numpy()) \n",
        "\n",
        "    # metrics\n",
        "    loss_list.append(running_loss)\n",
        "    fpt, tpr, _ = metrics.roc_curve(running_y_label, running_y_score)\n",
        "    auc = metrics.auc(fpt, tpr)\n",
        "    train_auc.append(auc)\n",
        "    print(f\"Epoch {epoch} | Training loss: {running_loss} | AUC: {auc}\")\n"
      ],
      "metadata": {
        "colab": {
          "base_uri": "https://localhost:8080/"
        },
        "id": "u0RP_kJ_cCMv",
        "outputId": "def8bba7-b1c0-4c02-ce4f-af688ac511cb"
      },
      "execution_count": 45,
      "outputs": [
        {
          "output_type": "stream",
          "name": "stdout",
          "text": [
            "Epoch 0 | Training loss: 2859.8209953308105 | AUC: 0.5563575718331356\n",
            "Epoch 1 | Training loss: 2473.2619819641113 | AUC: 0.734933855537971\n",
            "Epoch 2 | Training loss: 2292.2297191619873 | AUC: 0.7782239946198468\n",
            "Epoch 3 | Training loss: 2223.465284347534 | AUC: 0.7920670689641299\n",
            "Epoch 4 | Training loss: 2188.203193664551 | AUC: 0.8003808118593757\n",
            "Epoch 5 | Training loss: 2184.0359830856323 | AUC: 0.8021671379523994\n",
            "Epoch 6 | Training loss: 2157.2280082702637 | AUC: 0.8090002164088745\n",
            "Epoch 7 | Training loss: 2146.4051790237427 | AUC: 0.8113722440160405\n",
            "Epoch 8 | Training loss: 2136.721487045288 | AUC: 0.8143167387394331\n",
            "Epoch 9 | Training loss: 2134.5286598205566 | AUC: 0.8146673973465984\n",
            "Epoch 10 | Training loss: 2129.2716035842896 | AUC: 0.8155726301640093\n",
            "Epoch 11 | Training loss: 2121.1023359298706 | AUC: 0.8173085596697711\n",
            "Epoch 12 | Training loss: 2119.2306060791016 | AUC: 0.8179929368547703\n",
            "Epoch 13 | Training loss: 2116.8167247772217 | AUC: 0.8186045777888264\n",
            "Epoch 14 | Training loss: 2108.4063568115234 | AUC: 0.8196333669451749\n",
            "Epoch 15 | Training loss: 2107.248134613037 | AUC: 0.8195086459792204\n",
            "Epoch 16 | Training loss: 2094.472629547119 | AUC: 0.822268812008448\n",
            "Epoch 17 | Training loss: 2095.295699119568 | AUC: 0.8218597103000884\n",
            "Epoch 18 | Training loss: 2079.5012741088867 | AUC: 0.8252544921781533\n",
            "Epoch 19 | Training loss: 2072.893720626831 | AUC: 0.8269446836047196\n",
            "Epoch 20 | Training loss: 2066.924835205078 | AUC: 0.8276191085224864\n",
            "Epoch 21 | Training loss: 2065.748433113098 | AUC: 0.8280798773203075\n",
            "Epoch 22 | Training loss: 2063.6768503189087 | AUC: 0.8282641001392895\n",
            "Epoch 23 | Training loss: 2055.7152881622314 | AUC: 0.8298640859096648\n",
            "Epoch 24 | Training loss: 2046.686445236206 | AUC: 0.8316866213153848\n",
            "Epoch 25 | Training loss: 2040.3768062591553 | AUC: 0.8327921699796422\n",
            "Epoch 26 | Training loss: 2033.484670639038 | AUC: 0.834411001532649\n",
            "Epoch 27 | Training loss: 2029.0954513549805 | AUC: 0.8355720287929678\n",
            "Epoch 28 | Training loss: 2020.8925323486328 | AUC: 0.8372120353826392\n",
            "Epoch 29 | Training loss: 2020.7424783706665 | AUC: 0.8374178567390189\n",
            "Epoch 30 | Training loss: 2016.231855392456 | AUC: 0.8382206023789731\n",
            "Epoch 31 | Training loss: 2003.7344722747803 | AUC: 0.8406697071195979\n",
            "Epoch 32 | Training loss: 1998.2991704940796 | AUC: 0.8422303073217772\n",
            "Epoch 33 | Training loss: 1988.4621963500977 | AUC: 0.8438751841698814\n",
            "Epoch 34 | Training loss: 1993.1987600326538 | AUC: 0.8425403098585464\n",
            "Epoch 35 | Training loss: 1987.3083095550537 | AUC: 0.8449049262028797\n",
            "Epoch 36 | Training loss: 1984.7895812988281 | AUC: 0.8447713117215263\n",
            "Epoch 37 | Training loss: 1971.4398984909058 | AUC: 0.8475812390869155\n",
            "Epoch 38 | Training loss: 1963.0569581985474 | AUC: 0.8493277561110097\n",
            "Epoch 39 | Training loss: 1957.9807176589966 | AUC: 0.8505686132595539\n",
            "Epoch 40 | Training loss: 1954.310528755188 | AUC: 0.8512839059980831\n",
            "Epoch 41 | Training loss: 1950.229082107544 | AUC: 0.8523100482748487\n",
            "Epoch 42 | Training loss: 1951.8204278945923 | AUC: 0.8516321294760322\n",
            "Epoch 43 | Training loss: 1940.1674375534058 | AUC: 0.8539513253667199\n",
            "Epoch 44 | Training loss: 1933.2540616989136 | AUC: 0.8555688864175268\n",
            "Epoch 45 | Training loss: 1937.9583587646484 | AUC: 0.8541016681270384\n",
            "Epoch 46 | Training loss: 1923.3374843597412 | AUC: 0.8568927497097961\n",
            "Epoch 47 | Training loss: 1913.146975517273 | AUC: 0.8584988762408042\n",
            "Epoch 48 | Training loss: 1911.7016153335571 | AUC: 0.8594411653723777\n",
            "Epoch 49 | Training loss: 1910.29225730896 | AUC: 0.8592685888235616\n",
            "Epoch 50 | Training loss: 1910.8848009109497 | AUC: 0.8595686390930986\n",
            "Epoch 51 | Training loss: 1900.5123147964478 | AUC: 0.8614936616762753\n",
            "Epoch 52 | Training loss: 1901.300973892212 | AUC: 0.861650992198693\n",
            "Epoch 53 | Training loss: 1892.043369293213 | AUC: 0.8628979901078699\n",
            "Epoch 54 | Training loss: 1900.029564857483 | AUC: 0.8610570324202517\n",
            "Epoch 55 | Training loss: 1885.7168254852295 | AUC: 0.8638409144905433\n",
            "Epoch 56 | Training loss: 1895.5104246139526 | AUC: 0.862009062068691\n",
            "Epoch 57 | Training loss: 1892.347596168518 | AUC: 0.8625750707987351\n",
            "Epoch 58 | Training loss: 1873.3695287704468 | AUC: 0.8662796434632025\n",
            "Epoch 59 | Training loss: 1870.6677684783936 | AUC: 0.8664645015332845\n",
            "Epoch 60 | Training loss: 1883.230013847351 | AUC: 0.8638254567137783\n",
            "Epoch 61 | Training loss: 1866.355031967163 | AUC: 0.8673939797676761\n",
            "Epoch 62 | Training loss: 1876.9888715744019 | AUC: 0.8651037936772187\n",
            "Epoch 63 | Training loss: 1857.3574476242065 | AUC: 0.8689328755572739\n",
            "Epoch 64 | Training loss: 1864.494541168213 | AUC: 0.8675507809141771\n",
            "Epoch 65 | Training loss: 1858.6470985412598 | AUC: 0.8684926465450176\n",
            "Epoch 66 | Training loss: 1858.3923892974854 | AUC: 0.8681724799906491\n",
            "Epoch 67 | Training loss: 1854.6583137512207 | AUC: 0.8692134447930796\n",
            "Epoch 68 | Training loss: 1849.3487253189087 | AUC: 0.8699585943333061\n",
            "Epoch 69 | Training loss: 1849.2955284118652 | AUC: 0.8701760619598513\n",
            "Epoch 70 | Training loss: 1851.6991624832153 | AUC: 0.8694131253888266\n",
            "Epoch 71 | Training loss: 1855.5108308792114 | AUC: 0.8688183186089187\n",
            "Epoch 72 | Training loss: 1842.959478378296 | AUC: 0.87120199248625\n",
            "Epoch 73 | Training loss: 1839.0160312652588 | AUC: 0.8719435422702434\n",
            "Epoch 74 | Training loss: 1835.7530975341797 | AUC: 0.8721809144312535\n",
            "Epoch 75 | Training loss: 1842.6984415054321 | AUC: 0.8709976533824367\n",
            "Epoch 76 | Training loss: 1840.246060371399 | AUC: 0.8717360269109306\n",
            "Epoch 77 | Training loss: 1834.9174423217773 | AUC: 0.872279166601377\n",
            "Epoch 78 | Training loss: 1848.9853992462158 | AUC: 0.8700030619103019\n",
            "Epoch 79 | Training loss: 1822.4530725479126 | AUC: 0.8742550092725487\n",
            "Epoch 80 | Training loss: 1827.9267711639404 | AUC: 0.8736739662664724\n",
            "Epoch 81 | Training loss: 1832.368618965149 | AUC: 0.8730397739183686\n",
            "Epoch 82 | Training loss: 1815.2800035476685 | AUC: 0.8751369495496282\n",
            "Epoch 83 | Training loss: 1820.7911672592163 | AUC: 0.87454468377412\n",
            "Epoch 84 | Training loss: 1833.078625679016 | AUC: 0.8722929303752088\n",
            "Epoch 85 | Training loss: 1820.270188331604 | AUC: 0.8748400755355907\n",
            "Epoch 86 | Training loss: 1821.561266899109 | AUC: 0.8742039774341869\n",
            "Epoch 87 | Training loss: 1810.730793952942 | AUC: 0.876417404016735\n",
            "Epoch 88 | Training loss: 1805.9198093414307 | AUC: 0.8771991863703911\n",
            "Epoch 89 | Training loss: 1817.3237552642822 | AUC: 0.8751776056200241\n",
            "Epoch 90 | Training loss: 1801.5896100997925 | AUC: 0.8775968535589519\n",
            "Epoch 91 | Training loss: 1798.1478176116943 | AUC: 0.8783390385940453\n",
            "Epoch 92 | Training loss: 1792.9425773620605 | AUC: 0.8791305614645673\n",
            "Epoch 93 | Training loss: 1797.239972114563 | AUC: 0.8782388806706217\n",
            "Epoch 94 | Training loss: 1791.2298336029053 | AUC: 0.8795356399159605\n",
            "Epoch 95 | Training loss: 1803.3320064544678 | AUC: 0.8772343369312543\n",
            "Epoch 96 | Training loss: 1795.0416650772095 | AUC: 0.8790200277731782\n",
            "Epoch 97 | Training loss: 1811.0550394058228 | AUC: 0.8760620869015034\n",
            "Epoch 98 | Training loss: 1783.8350925445557 | AUC: 0.8807548985271069\n",
            "Epoch 99 | Training loss: 1801.5438604354858 | AUC: 0.8772641937329515\n"
          ]
        }
      ]
    },
    {
      "cell_type": "code",
      "source": [
        "fig, ax1 = plt.subplots(1,1)\n",
        "x = range(0, len(train_auc))\n",
        "ax1.plot(x, train_auc)"
      ],
      "metadata": {
        "colab": {
          "base_uri": "https://localhost:8080/",
          "height": 0
        },
        "id": "ff9GZZj4e6PE",
        "outputId": "9d58ff91-e0b9-4016-a542-4e450386abdb"
      },
      "execution_count": 46,
      "outputs": [
        {
          "output_type": "execute_result",
          "data": {
            "text/plain": [
              "[<matplotlib.lines.Line2D at 0x7fbe0a1b8750>]"
            ]
          },
          "metadata": {},
          "execution_count": 46
        },
        {
          "output_type": "display_data",
          "data": {
            "text/plain": [
              "<Figure size 432x288 with 1 Axes>"
            ],
            "image/png": "[encoded data removed]"
          },
          "metadata": {
            "needs_background": "light"
          }
        }
      ]
    },
    {
      "cell_type": "code",
      "source": [
        ""
      ],
      "metadata": {
        "id": "cIlMh71Xf6Vb"
      },
      "execution_count": 46,
      "outputs": []
    },
    {
      "cell_type": "markdown",
      "source": [
        "# NNet with embeddings"
      ],
      "metadata": {
        "id": "dehthQngXl17"
      }
    },
    {
      "cell_type": "code",
      "source": [
        "unique = np.unique(vendor_id)\n",
        "index = np.arange(0, len(unique))\n",
        "vendor_id_to_index = {key: value for key, value in zip(unique, index)}"
      ],
      "metadata": {
        "id": "eqtkZ0koXnfi"
      },
      "execution_count": 47,
      "outputs": []
    },
    {
      "cell_type": "code",
      "source": [
        "vendors_idx = np.array([vendor_id_to_index[vendor] for vendor in vendor_id])"
      ],
      "metadata": {
        "id": "adgo0xPCaCmT"
      },
      "execution_count": 48,
      "outputs": []
    },
    {
      "cell_type": "code",
      "source": [
        "print(max(vendors_idx))\n",
        "print(min(vendors_idx))"
      ],
      "metadata": {
        "colab": {
          "base_uri": "https://localhost:8080/"
        },
        "id": "ylMLPk3haiC4",
        "outputId": "27acfd50-4e51-4358-d943-602e61c086ed"
      },
      "execution_count": 49,
      "outputs": [
        {
          "output_type": "stream",
          "name": "stdout",
          "text": [
            "499\n",
            "0\n"
          ]
        }
      ]
    },
    {
      "cell_type": "code",
      "source": [
        "class CustomDatasetWithEmb(Dataset):\n",
        "\n",
        "    def __init__(self, X, vendors_idx, y):\n",
        "        super().__init__()\n",
        "        self.X = X\n",
        "        self.vendors_idx = vendors_idx\n",
        "        self.y = y\n",
        "\n",
        "    def __len__(self):\n",
        "        return self.X.shape[0]\n",
        "\n",
        "    def __getitem__(self, idx):\n",
        "        return self.X[idx], self.vendors_idx[idx], self.y[idx]"
      ],
      "metadata": {
        "id": "zam3uekkan9Y"
      },
      "execution_count": 50,
      "outputs": []
    },
    {
      "cell_type": "code",
      "source": [
        "vendors_index_train = vendors_idx[train_idx]  \n",
        "vendors_index_val = vendors_idx[valid_idx]\n",
        "train = CustomDatasetWithEmb(X_train, vendors_index_train, y_train)\n",
        "valid = CustomDatasetWithEmb(X_valid, vendors_index_val, y_valid)"
      ],
      "metadata": {
        "id": "vFfmOGUHbDG7"
      },
      "execution_count": 51,
      "outputs": []
    },
    {
      "cell_type": "code",
      "source": [
        "train_dataloader = DataLoader(train, batch_size=64, shuffle=True)\n",
        "valid_dataloader = DataLoader(valid, batch_size=64, shuffle=True)"
      ],
      "metadata": {
        "id": "5imzVPkNbih_"
      },
      "execution_count": 52,
      "outputs": []
    },
    {
      "cell_type": "code",
      "source": [
        "class NNetWithEmbeddings(torch.nn.Module):\n",
        "\n",
        "    def __init__(self, number_of_vendors, d):\n",
        "        super().__init__()\n",
        "        self.embedding = torch.nn.Embedding(num_embeddings=number_of_vendors, embedding_dim=d)\n",
        "        self.linear_1 = torch.nn.Linear(in_features=(13+d), out_features=100, bias=True)\n",
        "        self.relu_1 = torch.nn.ReLU()\n",
        "        self.linear_2 = torch.nn.Linear(in_features=100, out_features=50, bias=True)\n",
        "        self.relu_2 = torch.nn.ReLU()\n",
        "        self.output = torch.nn.Linear(in_features=50, out_features=1, bias=True)\n",
        "\n",
        "    def forward(self, x, vendor_idx):\n",
        "        vendor_emb = self.embedding(vendor_idx) # (64, d)\n",
        "\n",
        "        final_input = torch.cat([x, vendor_emb], dim=1) # (64, 13+d)\n",
        "\n",
        "        x = self.linear_1(final_input) \n",
        "        x = self.relu_1(x)\n",
        "        x = self.linear_2(x)\n",
        "        x = self.relu_2(x)        \n",
        "        x = self.output(x) \n",
        "        return x\n"
      ],
      "metadata": {
        "id": "nVqmme-1bzrg"
      },
      "execution_count": 53,
      "outputs": []
    },
    {
      "cell_type": "code",
      "source": [
        "nnet2 = NNetWithEmbeddings(number_of_vendors=500, d=8)\n",
        "optimizer = torch.optim.Adam(nnet2.parameters(), lr=0.001)\n",
        "loss_function = torch.nn.BCEWithLogitsLoss(reduction=\"sum\")"
      ],
      "metadata": {
        "id": "S5tP8PQJdaOA"
      },
      "execution_count": 54,
      "outputs": []
    },
    {
      "cell_type": "code",
      "source": [
        "print(nnet)"
      ],
      "metadata": {
        "colab": {
          "base_uri": "https://localhost:8080/"
        },
        "id": "FovucZ-OdnaW",
        "outputId": "abda064d-e211-4919-b330-14c44851b342"
      },
      "execution_count": 55,
      "outputs": [
        {
          "output_type": "stream",
          "name": "stdout",
          "text": [
            "NNet(\n",
            "  (linear_1): Linear(in_features=13, out_features=100, bias=True)\n",
            "  (relu_1): ReLU()\n",
            "  (linear_2): Linear(in_features=100, out_features=50, bias=True)\n",
            "  (relu_2): ReLU()\n",
            "  (output): Linear(in_features=50, out_features=1, bias=True)\n",
            ")\n"
          ]
        }
      ]
    },
    {
      "cell_type": "code",
      "source": [
        "print(nnet2)"
      ],
      "metadata": {
        "colab": {
          "base_uri": "https://localhost:8080/"
        },
        "id": "Lt6EfDXvdpZn",
        "outputId": "1dab666e-0b7e-43ac-8869-41db8cd67626"
      },
      "execution_count": 56,
      "outputs": [
        {
          "output_type": "stream",
          "name": "stdout",
          "text": [
            "NNetWithEmbeddings(\n",
            "  (embedding): Embedding(500, 8)\n",
            "  (linear_1): Linear(in_features=21, out_features=100, bias=True)\n",
            "  (relu_1): ReLU()\n",
            "  (linear_2): Linear(in_features=100, out_features=50, bias=True)\n",
            "  (relu_2): ReLU()\n",
            "  (output): Linear(in_features=50, out_features=1, bias=True)\n",
            ")\n"
          ]
        }
      ]
    },
    {
      "cell_type": "code",
      "source": [
        "nnet = nnet2\n",
        "\n",
        "nnet.to(device)\n",
        "\n",
        "loss_list = []\n",
        "train_auc = []\n",
        "for epoch in range(100):\n",
        "\n",
        "    running_loss = 0\n",
        "    running_y_score = []\n",
        "    running_y_label = []\n",
        "\n",
        "    #### TRAINING ####\n",
        "\n",
        "    for i, data in enumerate(train_dataloader):\n",
        "\n",
        "        # datos del batch\n",
        "        X_batch, vendor_idx_batch, y_batch = data \n",
        "        X_batch = X_batch.to(device).float()\n",
        "        vendor_idx_batch = vendor_idx_batch.to(device)\n",
        "        Y_batch = y_batch.to(device).float()\n",
        "\n",
        "        # forward\n",
        "        optimizer.zero_grad()\n",
        "        y_batch_score = nnet(X_batch, vendor_idx_batch).reshape(-1)\n",
        "        y_batch_hat = torch.sigmoid(y_batch_score).reshape(-1)\n",
        "\n",
        "        # backpropagation\n",
        "        loss = loss_function(y_batch_score, Y_batch) # calcula el loss\n",
        "        loss.backward() # hacer los gradientes del loss\n",
        "\n",
        "        # actualización de parametros\n",
        "        optimizer.step() \n",
        "\n",
        "        running_loss += loss.item()\n",
        "        running_y_score += list(y_batch_score.detach().cpu().numpy())  \n",
        "        running_y_label += list(Y_batch.detach().cpu().numpy()) \n",
        "\n",
        "    # metrics\n",
        "    loss_list.append(running_loss)\n",
        "    fpt, tpr, _ = metrics.roc_curve(running_y_label, running_y_score)\n",
        "    auc = metrics.auc(fpt, tpr)\n",
        "    train_auc.append(auc)\n",
        "    print(f\"Epoch {epoch} | Training loss: {running_loss} | AUC: {auc}\")\n",
        "\n",
        "    #### VALIDATION ####\n",
        "\n"
      ],
      "metadata": {
        "colab": {
          "base_uri": "https://localhost:8080/"
        },
        "id": "c5GSkGw-drh3",
        "outputId": "74078f59-2d35-4736-c2ce-847eb83fe892"
      },
      "execution_count": 57,
      "outputs": [
        {
          "output_type": "stream",
          "name": "stdout",
          "text": [
            "Epoch 0 | Training loss: 2844.5662593841553 | AUC: 0.5614768486971635\n",
            "Epoch 1 | Training loss: 2437.4666652679443 | AUC: 0.7371794681762491\n",
            "Epoch 2 | Training loss: 2126.1501331329346 | AUC: 0.8306182348404736\n",
            "Epoch 3 | Training loss: 1618.8515930175781 | AUC: 0.9077160139602782\n",
            "Epoch 4 | Training loss: 1129.5530052185059 | AUC: 0.9540799213643838\n",
            "Epoch 5 | Training loss: 799.3042089939117 | AUC: 0.9757376429897289\n",
            "Epoch 6 | Training loss: 586.6471501588821 | AUC: 0.9861324684883692\n",
            "Epoch 7 | Training loss: 408.211905002594 | AUC: 0.9927265866560848\n",
            "Epoch 8 | Training loss: 310.28957176208496 | AUC: 0.9954363560980506\n",
            "Epoch 9 | Training loss: 237.7541046142578 | AUC: 0.9972046834099094\n",
            "Epoch 10 | Training loss: 174.39720633625984 | AUC: 0.9985831782967732\n",
            "Epoch 11 | Training loss: 142.73215046525002 | AUC: 0.9988942395853758\n",
            "Epoch 12 | Training loss: 107.85589319467545 | AUC: 0.9993001650382358\n",
            "Epoch 13 | Training loss: 88.18795971572399 | AUC: 0.9995072568968153\n",
            "Epoch 14 | Training loss: 66.10910982638597 | AUC: 0.999737006044626\n",
            "Epoch 15 | Training loss: 55.425329364836216 | AUC: 0.9997230305204273\n",
            "Epoch 16 | Training loss: 44.13928922638297 | AUC: 0.9998464809841818\n",
            "Epoch 17 | Training loss: 34.75355749577284 | AUC: 0.9999220758650742\n",
            "Epoch 18 | Training loss: 28.828208891674876 | AUC: 0.9999709901997695\n",
            "Epoch 19 | Training loss: 22.81105507723987 | AUC: 0.9999794602144354\n",
            "Epoch 20 | Training loss: 19.087627232074738 | AUC: 0.9999851774743348\n",
            "Epoch 21 | Training loss: 15.00676192715764 | AUC: 0.9999955532423004\n",
            "Epoch 22 | Training loss: 12.762568909674883 | AUC: 0.9999976707459669\n",
            "Epoch 23 | Training loss: 10.414507640525699 | AUC: 0.9999993647489\n",
            "Epoch 24 | Training loss: 8.208121987991035 | AUC: 1.0\n",
            "Epoch 25 | Training loss: 6.843205689452589 | AUC: 1.0\n",
            "Epoch 26 | Training loss: 5.7825481300242245 | AUC: 1.0\n",
            "Epoch 27 | Training loss: 4.759535231627524 | AUC: 1.0\n",
            "Epoch 28 | Training loss: 4.032120920717716 | AUC: 1.0\n",
            "Epoch 29 | Training loss: 3.3774118376895785 | AUC: 1.0\n",
            "Epoch 30 | Training loss: 3.039310001768172 | AUC: 1.0\n",
            "Epoch 31 | Training loss: 2.6125199783127755 | AUC: 1.0\n",
            "Epoch 32 | Training loss: 2.358746112906374 | AUC: 1.0\n",
            "Epoch 33 | Training loss: 2.075510638067499 | AUC: 1.0\n",
            "Epoch 34 | Training loss: 1.8750268692383543 | AUC: 1.0\n",
            "Epoch 35 | Training loss: 1.6274676150642335 | AUC: 1.0\n",
            "Epoch 36 | Training loss: 1.5205691565060988 | AUC: 1.0\n",
            "Epoch 37 | Training loss: 1.3695085025392473 | AUC: 1.0\n",
            "Epoch 38 | Training loss: 1.199696684081573 | AUC: 1.0\n",
            "Epoch 39 | Training loss: 1.1037939010420814 | AUC: 1.0\n",
            "Epoch 40 | Training loss: 1.0106009463779628 | AUC: 1.0\n",
            "Epoch 41 | Training loss: 0.903291083755903 | AUC: 1.0\n",
            "Epoch 42 | Training loss: 0.8601035493193194 | AUC: 1.0\n",
            "Epoch 43 | Training loss: 0.7752211136976257 | AUC: 1.0\n",
            "Epoch 44 | Training loss: 0.7041698545217514 | AUC: 1.0\n",
            "Epoch 45 | Training loss: 0.6504973054397851 | AUC: 1.0\n",
            "Epoch 46 | Training loss: 0.593777738395147 | AUC: 1.0\n",
            "Epoch 47 | Training loss: 0.5492240964667872 | AUC: 1.0\n",
            "Epoch 48 | Training loss: 0.5067763690603897 | AUC: 1.0\n",
            "Epoch 49 | Training loss: 0.4716015051235445 | AUC: 1.0\n",
            "Epoch 50 | Training loss: 0.4346781370113604 | AUC: 1.0\n",
            "Epoch 51 | Training loss: 0.4075086099037435 | AUC: 1.0\n",
            "Epoch 52 | Training loss: 0.38012507633538917 | AUC: 1.0\n",
            "Epoch 53 | Training loss: 0.3518873571883887 | AUC: 1.0\n",
            "Epoch 54 | Training loss: 0.3255052424792666 | AUC: 1.0\n",
            "Epoch 55 | Training loss: 0.30537961804657243 | AUC: 1.0\n",
            "Epoch 56 | Training loss: 0.2834947034716606 | AUC: 1.0\n",
            "Epoch 57 | Training loss: 0.2654885242372984 | AUC: 1.0\n",
            "Epoch 58 | Training loss: 0.24871659779455513 | AUC: 1.0\n",
            "Epoch 59 | Training loss: 0.23049370758235455 | AUC: 1.0\n",
            "Epoch 60 | Training loss: 0.21671737640281208 | AUC: 1.0\n",
            "Epoch 61 | Training loss: 0.20199109212262556 | AUC: 1.0\n",
            "Epoch 62 | Training loss: 0.1894703600119101 | AUC: 1.0\n",
            "Epoch 63 | Training loss: 0.1789169248077087 | AUC: 1.0\n",
            "Epoch 64 | Training loss: 0.16684349757997552 | AUC: 1.0\n",
            "Epoch 65 | Training loss: 0.156363402158604 | AUC: 1.0\n",
            "Epoch 66 | Training loss: 0.1477046425352455 | AUC: 1.0\n",
            "Epoch 67 | Training loss: 0.13907928371190792 | AUC: 1.0\n",
            "Epoch 68 | Training loss: 0.1309176493086852 | AUC: 1.0\n",
            "Epoch 69 | Training loss: 0.12256301176239504 | AUC: 1.0\n",
            "Epoch 70 | Training loss: 0.11482490121852607 | AUC: 1.0\n",
            "Epoch 71 | Training loss: 0.1094152906225645 | AUC: 1.0\n",
            "Epoch 72 | Training loss: 0.10266066280019004 | AUC: 1.0\n",
            "Epoch 73 | Training loss: 0.09598988455400104 | AUC: 1.0\n",
            "Epoch 74 | Training loss: 0.09107622418378014 | AUC: 1.0\n",
            "Epoch 75 | Training loss: 0.08529045779141597 | AUC: 1.0\n",
            "Epoch 76 | Training loss: 0.0800509302644059 | AUC: 1.0\n",
            "Epoch 77 | Training loss: 0.07606412893801462 | AUC: 1.0\n",
            "Epoch 78 | Training loss: 0.07173264423181536 | AUC: 1.0\n",
            "Epoch 79 | Training loss: 0.06747672031269758 | AUC: 1.0\n",
            "Epoch 80 | Training loss: 0.06378130155280815 | AUC: 1.0\n",
            "Epoch 81 | Training loss: 0.06064171583602729 | AUC: 1.0\n",
            "Epoch 82 | Training loss: 0.05681414830905851 | AUC: 1.0\n",
            "Epoch 83 | Training loss: 0.05427155926008709 | AUC: 1.0\n",
            "Epoch 84 | Training loss: 0.051241251781902974 | AUC: 1.0\n",
            "Epoch 85 | Training loss: 0.04820817345898831 | AUC: 1.0\n",
            "Epoch 86 | Training loss: 0.0453470233369444 | AUC: 1.0\n",
            "Epoch 87 | Training loss: 0.04299508437907207 | AUC: 1.0\n",
            "Epoch 88 | Training loss: 0.040429718708764995 | AUC: 1.0\n",
            "Epoch 89 | Training loss: 0.038307095077470876 | AUC: 1.0\n",
            "Epoch 90 | Training loss: 0.036375791369209765 | AUC: 1.0\n",
            "Epoch 91 | Training loss: 0.03427786732572713 | AUC: 1.0\n",
            "Epoch 92 | Training loss: 0.03256586132556549 | AUC: 1.0\n",
            "Epoch 93 | Training loss: 0.03093163164157886 | AUC: 1.0\n",
            "Epoch 94 | Training loss: 0.02900679793310701 | AUC: 1.0\n",
            "Epoch 95 | Training loss: 0.02772801380888268 | AUC: 1.0\n",
            "Epoch 96 | Training loss: 0.026091457071743207 | AUC: 1.0\n",
            "Epoch 97 | Training loss: 0.024711644544368028 | AUC: 1.0\n",
            "Epoch 98 | Training loss: 0.023440601284164586 | AUC: 1.0\n",
            "Epoch 99 | Training loss: 0.022207050755241653 | AUC: 1.0\n"
          ]
        }
      ]
    },
    {
      "cell_type": "code",
      "source": [
        ""
      ],
      "metadata": {
        "id": "Y2SJaCiieOPK"
      },
      "execution_count": 57,
      "outputs": []
    },
    {
      "cell_type": "code",
      "source": [
        "#### VALIDATION ####\n",
        "    nnet.eval()\n",
        "    with torch.no_grad():\n",
        "\n",
        "        for i, data in enumerate(valid_dataloader):\n",
        "\n",
        "            # TODO: pasos para acumular validation loss\n",
        "            # TODO: pasos para acumular y_score and y\n",
        "\n",
        "        # TODO: pasos para calcular las metrics (AUC) \n",
        "\n",
        "        \n",
        "# TODO\n",
        "# PLOT train loss and valid loss vs epochs\n",
        "# PLOT train auc and valid auc vs epochs"
      ],
      "metadata": {
        "id": "XyEmGCQtgiYg"
      },
      "execution_count": null,
      "outputs": []
    }
  ]
}