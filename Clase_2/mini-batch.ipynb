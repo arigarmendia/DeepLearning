{
 "cells": [
  {
   "cell_type": "markdown",
   "metadata": {},
   "source": [
    "### Clase 2 -  Implementación de Mini-Batch y First Order Momentum sin librerías"
   ]
  },
  {
   "cell_type": "code",
   "execution_count": 29,
   "metadata": {},
   "outputs": [],
   "source": [
    "import random\n",
    "import math\n",
    "import matplotlib.pyplot as plt"
   ]
  },
  {
   "cell_type": "markdown",
   "metadata": {},
   "source": [
    "### Genero dataset"
   ]
  },
  {
   "cell_type": "code",
   "execution_count": 251,
   "metadata": {},
   "outputs": [
    {
     "data": {
      "text/plain": [
       "(9000, -1.0, 7.999)"
      ]
     },
     "execution_count": 251,
     "metadata": {},
     "output_type": "execute_result"
    }
   ],
   "source": [
    "# Genero valores de x entre -1 y 8, con step = 0.1\n",
    "x = list(map(lambda value: value/1000.0, range(-1000, 8000, 1)))\n",
    "y_true = []\n",
    "\n",
    "# Genero valores de y utilizando la función de la consigna\n",
    "for i in range(len(x)):\n",
    "    y = -(x[i]-3)**2 + 2 + (0.1 * math.sin(10*x[i]))\n",
    "    y_true.append(y)\n",
    "\n",
    "len(x), min(x), max(x)\n"
   ]
  },
  {
   "cell_type": "markdown",
   "metadata": {},
   "source": [
    "### Grafico dataset"
   ]
  },
  {
   "cell_type": "code",
   "execution_count": 252,
   "metadata": {},
   "outputs": [
    {
     "data": {
      "text/plain": [
       "Text(0, 0.5, 'y')"
      ]
     },
     "execution_count": 252,
     "metadata": {},
     "output_type": "execute_result"
    },
    {
     "data": {
      "image/png": "[encoded data removed]",
      "text/plain": [
       "<Figure size 432x288 with 1 Axes>"
      ]
     },
     "metadata": {
      "needs_background": "light"
     },
     "output_type": "display_data"
    }
   ],
   "source": [
    "#Grafico datos\n",
    "plt.figure()\n",
    "plt.plot(x,y_true)\n",
    "plt.title('y = -(x-3)^2 + 2 + 0.1 * sen(10x)')\n",
    "plt.xlabel('x')\n",
    "plt.ylabel('y')\n"
   ]
  },
  {
   "cell_type": "markdown",
   "metadata": {},
   "source": [
    "### Mini-batch"
   ]
  },
  {
   "cell_type": "code",
   "execution_count": 266,
   "metadata": {},
   "outputs": [],
   "source": [
    "#Hiperparametros: n_epochs, batch_size, n_batches, alpha\n",
    "\n",
    "\n",
    "def mini_batch(X,y, n_batches, n_epochs, alpha):\n",
    "    batch_size = int(len(X)/n_batches)\n",
    "    n_epochs = n_epochs\n",
    "    alpha = alpha\n",
    "    # Paso 1 - Inicializar w y b con distribución U(-1,1)\n",
    "    w1 = random.uniform(-1,1) \n",
    "    w2 = random.uniform(-1,1)\n",
    "    b = random.uniform(-1,1)\n",
    "    #Inicializo gradientes en cero\n",
    "    dw1 = 0\n",
    "    dw2 = 0\n",
    "    db = 0\n",
    "    err = []\n",
    "    err_2 = 0\n",
    "\n",
    "    \n",
    "    MSE=[] # Acá voy ir guardando los MSE para cada Epoch\n",
    "\n",
    "    for epoch in range(n_epochs): # Iteracion por cada epoch\n",
    "        err = []\n",
    "        err_2 = 0\n",
    "        y_hat = []\n",
    "        for b in range(n_batches): # Iteracion por cada mini-batch\n",
    "\n",
    "            for i in range(batch_size): # Recorro las muestas adentro del mini-batch\n",
    "            \n",
    "            # Step1: Forward Propagation\n",
    "                y_hat.append(w1 * X[i]**2 + w2 * X[i] + b)\n",
    "            \n",
    "            # Step2: Error\n",
    "                err.append(y[i] - y_hat[i])\n",
    "                err_2 += (err[i])**2\n",
    "\n",
    "            #Step 3: Backpropagation\n",
    "            dw1 = -2 * err[b] * X[b]**2\n",
    "            dw2 = -2 * err[b] * X[b]\n",
    "            db = -2 * err[b]\n",
    "\n",
    "            #Step4: Actualización de los pesos\n",
    "            w1 -= alpha * dw1\n",
    "            w2 -= alpha * dw2\n",
    "            b -= alpha * db\n",
    "           \n",
    "        MSE.append(err_2/n_batches) # Luego graficar MSE vs Epochs\n",
    "    return MSE"
   ]
  },
  {
   "cell_type": "code",
   "execution_count": 285,
   "metadata": {},
   "outputs": [],
   "source": [
    "#Pruebo con n_epochs=100 y alpha=0.01)\n",
    "MSE = mini_batch(x,y_true, 90, n_epochs=100, alpha=0.001)"
   ]
  },
  {
   "cell_type": "code",
   "execution_count": 286,
   "metadata": {},
   "outputs": [
    {
     "data": {
      "text/plain": [
       "Text(0, 0.5, 'MSE')"
      ]
     },
     "execution_count": 286,
     "metadata": {},
     "output_type": "execute_result"
    },
    {
     "data": {
      "image/png": "[encoded data removed]",
      "text/plain": [
       "<Figure size 432x288 with 1 Axes>"
      ]
     },
     "metadata": {
      "needs_background": "light"
     },
     "output_type": "display_data"
    }
   ],
   "source": [
    "# Grafico MSE en función de las Epochs\n",
    "plt.plot(MSE)\n",
    "plt.xlabel(\"Epochs\")\n",
    "plt.ylabel(\"MSE\")"
   ]
  },
  {
   "cell_type": "markdown",
   "metadata": {},
   "source": [
    "### First Order Momentum"
   ]
  },
  {
   "cell_type": "code",
   "execution_count": 287,
   "metadata": {},
   "outputs": [],
   "source": [
    "#Hiperparametros: n_epochs, epsilon, n_batches, alpha\n",
    "\n",
    "def first_order_momentum(X,y, n_batches, epsilon, n_epochs, alpha):\n",
    "    batch_size = int(len(X)/n_batches)\n",
    "    n_epochs = n_epochs\n",
    "    alpha = alpha\n",
    "    epsilon = epsilon\n",
    "    v1 = 0\n",
    "    v2 = 0\n",
    "    vb = 0\n",
    "    dw1 = 0\n",
    "    dw2 = 0\n",
    "    db = 0\n",
    "    err = []\n",
    "    err_2 = 0\n",
    "    y_hat = []\n",
    "    # Paso 1 - Inicializar w y b con distribución U(-1,1)\n",
    "    w1 = random.uniform(-1,1) \n",
    "    w2 = random.uniform(-1,1)\n",
    "    b = random.uniform(-1,1)\n",
    "    \n",
    "    MSE=[] # Acá voy ir guardando los MSE para cada Epoch\n",
    "\n",
    "    for epoch in range(n_epochs): # Iteracion por cada epoch\n",
    "        err = []\n",
    "        err_2 = 0\n",
    "        y_hat = []\n",
    "        for b in range(n_batches): # Iteracion por cada mini-batch\n",
    "\n",
    "            for i in range(batch_size): # Recorro las muestras adentro del mini-batch\n",
    "                \n",
    "            # Step1: Forward Propagation\n",
    "                y_hat.append(w1 * X[i]**2 + w2 * X[i] + b)\n",
    "            \n",
    "            # Step2: Error\n",
    "                err.append(y[i] - y_hat[i])\n",
    "                err_2 += (err[i])**2\n",
    "\n",
    "            #Step 3: Backpropagation\n",
    "            dw1 = -2 * err[b] * X[b]**2\n",
    "            dw2 = -2 * err[b] * X[b]\n",
    "            db = -2 * err[b]\n",
    "\n",
    "            #Calculo V\n",
    "            v1 = epsilon * v1 + alpha * dw1\n",
    "            v2 = epsilon * v2 + alpha * dw2\n",
    "            vb = epsilon * vb + alpha * db\n",
    "            \n",
    "            #Step4: Actualización de los pesos\n",
    "            w1 -= v1\n",
    "            w2 -= v2\n",
    "            b -= vb\n",
    "\n",
    "           \n",
    "        MSE.append(err_2/n_batches) # Luego graficar MSE vs Epochs\n",
    "    return MSE"
   ]
  },
  {
   "cell_type": "code",
   "execution_count": 288,
   "metadata": {},
   "outputs": [],
   "source": [
    "MSE_fom = first_order_momentum(x,y_true, 90, epsilon = 0.5, n_epochs = 1000, alpha=0.001)"
   ]
  },
  {
   "cell_type": "code",
   "execution_count": 289,
   "metadata": {},
   "outputs": [
    {
     "data": {
      "text/plain": [
       "Text(0, 0.5, 'MSE - First Order Momentum')"
      ]
     },
     "execution_count": 289,
     "metadata": {},
     "output_type": "execute_result"
    },
    {
     "data": {
      "image/png": "[encoded data removed]",
      "text/plain": [
       "<Figure size 432x288 with 1 Axes>"
      ]
     },
     "metadata": {
      "needs_background": "light"
     },
     "output_type": "display_data"
    }
   ],
   "source": [
    "# Grafico MSE en función de las Epochs\n",
    "plt.plot(MSE_fom)\n",
    "plt.xlabel(\"Epochs\")\n",
    "plt.ylabel(\"MSE - First Order Momentum\")"
   ]
  }
 ],
 "metadata": {
  "interpreter": {
   "hash": "aee8b7b246df8f9039afb4144a1f6fd8d2ca17a180786b69acc140d282b71a49"
  },
  "kernelspec": {
   "display_name": "Python 3.10.2 64-bit",
   "language": "python",
   "name": "python3"
  },
  "language_info": {
   "codemirror_mode": {
    "name": "ipython",
    "version": 3
   },
   "file_extension": ".py",
   "mimetype": "text/x-python",
   "name": "python",
   "nbconvert_exporter": "python",
   "pygments_lexer": "ipython3",
   "version": "3.10.2"
  },
  "orig_nbformat": 4
 },
 "nbformat": 4,
 "nbformat_minor": 2
}
