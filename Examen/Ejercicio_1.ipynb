{
 "cells": [
  {
   "cell_type": "markdown",
   "metadata": {},
   "source": [
    "## Deep Learning\n",
    "### Examen Agosto 2022\n",
    "\n",
    "#### Alumna: Ariadna Garmendia"
   ]
  },
  {
   "cell_type": "code",
   "execution_count": 1624,
   "metadata": {},
   "outputs": [],
   "source": [
    "import math\n",
    "import random\n",
    "import math\n",
    "import matplotlib.pyplot as plt\n",
    "import pandas as pd\n",
    "import numpy as np\n",
    "from sklearn import preprocessing\n",
    "from sklearn.model_selection import train_test_split"
   ]
  },
  {
   "cell_type": "code",
   "execution_count": 1625,
   "metadata": {},
   "outputs": [
    {
     "data": {
      "text/html": [
       "<div>\n",
       "<style scoped>\n",
       "    .dataframe tbody tr th:only-of-type {\n",
       "        vertical-align: middle;\n",
       "    }\n",
       "\n",
       "    .dataframe tbody tr th {\n",
       "        vertical-align: top;\n",
       "    }\n",
       "\n",
       "    .dataframe thead th {\n",
       "        text-align: right;\n",
       "    }\n",
       "</style>\n",
       "<table border=\"1\" class=\"dataframe\">\n",
       "  <thead>\n",
       "    <tr style=\"text-align: right;\">\n",
       "      <th></th>\n",
       "      <th># X</th>\n",
       "      <th>Y</th>\n",
       "    </tr>\n",
       "  </thead>\n",
       "  <tbody>\n",
       "    <tr>\n",
       "      <th>0</th>\n",
       "      <td>1.791979</td>\n",
       "      <td>4.952906</td>\n",
       "    </tr>\n",
       "    <tr>\n",
       "      <th>1</th>\n",
       "      <td>0.846885</td>\n",
       "      <td>1.424248</td>\n",
       "    </tr>\n",
       "    <tr>\n",
       "      <th>2</th>\n",
       "      <td>1.000300</td>\n",
       "      <td>0.454364</td>\n",
       "    </tr>\n",
       "    <tr>\n",
       "      <th>3</th>\n",
       "      <td>1.884188</td>\n",
       "      <td>6.681510</td>\n",
       "    </tr>\n",
       "    <tr>\n",
       "      <th>4</th>\n",
       "      <td>0.889089</td>\n",
       "      <td>1.211691</td>\n",
       "    </tr>\n",
       "  </tbody>\n",
       "</table>\n",
       "</div>"
      ],
      "text/plain": [
       "        # X         Y\n",
       "0  1.791979  4.952906\n",
       "1  0.846885  1.424248\n",
       "2  1.000300  0.454364\n",
       "3  1.884188  6.681510\n",
       "4  0.889089  1.211691"
      ]
     },
     "execution_count": 1625,
     "metadata": {},
     "output_type": "execute_result"
    }
   ],
   "source": [
    "dataset = pd.read_csv('dataset_1.csv')\n",
    "dataset = pd.DataFrame(dataset)\n",
    "dataset.head()"
   ]
  },
  {
   "cell_type": "code",
   "execution_count": 1626,
   "metadata": {},
   "outputs": [
    {
     "data": {
      "text/html": [
       "<div>\n",
       "<style scoped>\n",
       "    .dataframe tbody tr th:only-of-type {\n",
       "        vertical-align: middle;\n",
       "    }\n",
       "\n",
       "    .dataframe tbody tr th {\n",
       "        vertical-align: top;\n",
       "    }\n",
       "\n",
       "    .dataframe thead th {\n",
       "        text-align: right;\n",
       "    }\n",
       "</style>\n",
       "<table border=\"1\" class=\"dataframe\">\n",
       "  <thead>\n",
       "    <tr style=\"text-align: right;\">\n",
       "      <th></th>\n",
       "      <th>X</th>\n",
       "      <th>Y</th>\n",
       "    </tr>\n",
       "  </thead>\n",
       "  <tbody>\n",
       "    <tr>\n",
       "      <th>0</th>\n",
       "      <td>1.791979</td>\n",
       "      <td>4.952906</td>\n",
       "    </tr>\n",
       "    <tr>\n",
       "      <th>1</th>\n",
       "      <td>0.846885</td>\n",
       "      <td>1.424248</td>\n",
       "    </tr>\n",
       "    <tr>\n",
       "      <th>2</th>\n",
       "      <td>1.000300</td>\n",
       "      <td>0.454364</td>\n",
       "    </tr>\n",
       "    <tr>\n",
       "      <th>3</th>\n",
       "      <td>1.884188</td>\n",
       "      <td>6.681510</td>\n",
       "    </tr>\n",
       "    <tr>\n",
       "      <th>4</th>\n",
       "      <td>0.889089</td>\n",
       "      <td>1.211691</td>\n",
       "    </tr>\n",
       "  </tbody>\n",
       "</table>\n",
       "</div>"
      ],
      "text/plain": [
       "          X         Y\n",
       "0  1.791979  4.952906\n",
       "1  0.846885  1.424248\n",
       "2  1.000300  0.454364\n",
       "3  1.884188  6.681510\n",
       "4  0.889089  1.211691"
      ]
     },
     "execution_count": 1626,
     "metadata": {},
     "output_type": "execute_result"
    }
   ],
   "source": [
    "dataset.rename(columns = {'# X':'X'}, inplace = True)\n",
    "dataset.head()"
   ]
  },
  {
   "cell_type": "code",
   "execution_count": 1627,
   "metadata": {},
   "outputs": [
    {
     "data": {
      "text/plain": [
       "((10000,), (10000,))"
      ]
     },
     "execution_count": 1627,
     "metadata": {},
     "output_type": "execute_result"
    }
   ],
   "source": [
    "X = dataset.X.to_numpy()\n",
    "y = dataset.Y.to_numpy()\n",
    "\n",
    "X.shape, y.shape"
   ]
  },
  {
   "cell_type": "code",
   "execution_count": 1628,
   "metadata": {},
   "outputs": [
    {
     "data": {
      "image/png": "[encoded data removed]",
      "text/plain": [
       "<Figure size 432x288 with 1 Axes>"
      ]
     },
     "metadata": {
      "needs_background": "light"
     },
     "output_type": "display_data"
    }
   ],
   "source": [
    "# Grafico función de entrada\n",
    "plt.figure()\n",
    "plt.scatter(X, y,1)\n",
    "plt.title('y = f(X)')\n",
    "plt.ylabel('y')\n",
    "plt.xlabel('X')\n",
    "plt.show()"
   ]
  },
  {
   "cell_type": "markdown",
   "metadata": {},
   "source": [
    "#### Voy a reutilizar un código que yo creé para el TP2 que implementa mini-batch sin librerías. Lo único que voy a cambiar son las derivadas del backpropagation."
   ]
  },
  {
   "cell_type": "code",
   "execution_count": 1629,
   "metadata": {},
   "outputs": [],
   "source": [
    "\n",
    "def mini_batch(X,y, n_batches, n_epochs, alpha):\n",
    "    batch_size = int(len(X)/n_batches)\n",
    "    n_epochs = n_epochs\n",
    "    alpha = alpha\n",
    "    # Paso 1 - Inicializar w y b con distribución U(-1,1)\n",
    "    w1 = random.uniform(-1,1) \n",
    "    w2 = random.uniform(-1,1)\n",
    "    b1 = random.uniform(-1,1)\n",
    "    #Inicializo gradientes en cero\n",
    "    dw1 = 0\n",
    "    dw2 = 0\n",
    "    db = 0\n",
    "    err = []\n",
    "    err_2 = 0\n",
    "\n",
    "    \n",
    "    MSE=[] # Acá voy ir guardando los MSE para cada Epoch\n",
    "\n",
    "    for epoch in range(n_epochs): # Iteracion por cada epoch\n",
    "        err = []\n",
    "        err_2 = 0\n",
    "        y_hat = []\n",
    "        for b in range(n_batches): # Iteracion por cada mini-batch\n",
    "\n",
    "            for bs in range(batch_size): # Recorro las muestas adentro del mini-batch\n",
    "                i = bs + (b*batch_size)\n",
    "            # Step1: Forward Propagation\n",
    "                y_hat.append(w1 * X[i]**3 + w2 * X[i]**2 + w1 * X[i] + b1)\n",
    "            \n",
    "            # Step2: Error\n",
    "                err.append(y[i] - y_hat[i])\n",
    "                err_2 += (err[i])**2\n",
    "\n",
    "            #Step 3: Backpropagation\n",
    "            dw1 = -2/batch_size * err[b] * (X[b]**3 + X[b])\n",
    "            dw2 = -2/batch_size * err[b] * X[b]**2\n",
    "            db1 = -2/batch_size * err[b]\n",
    "\n",
    "            #Step4: Actualización de los pesos\n",
    "            w1 -= alpha * dw1\n",
    "            w2 -= alpha * dw2\n",
    "            b1 -= alpha * db1\n",
    "           \n",
    "        MSE.append(err_2/n_batches) # Luego graficar MSE vs Epochs\n",
    "    return MSE, w1, w2, b1"
   ]
  },
  {
   "cell_type": "code",
   "execution_count": 1630,
   "metadata": {},
   "outputs": [],
   "source": [
    "#Pruebo con n_batches=10, n_epochs=10000 y alpha=0.0001\n",
    "MSE, w1, w2, b1 = mini_batch(X,y, n_batches=10, n_epochs=10000, alpha=0.01)"
   ]
  },
  {
   "cell_type": "code",
   "execution_count": 1631,
   "metadata": {},
   "outputs": [
    {
     "data": {
      "text/plain": [
       "Text(0, 0.5, 'MSE')"
      ]
     },
     "execution_count": 1631,
     "metadata": {},
     "output_type": "execute_result"
    },
    {
     "data": {
      "image/png": "[encoded data removed]",
      "text/plain": [
       "<Figure size 432x288 with 1 Axes>"
      ]
     },
     "metadata": {
      "needs_background": "light"
     },
     "output_type": "display_data"
    }
   ],
   "source": [
    "# Grafico MSE en función de las Epochs\n",
    "plt.plot(MSE)\n",
    "plt.xlabel(\"Epochs\")\n",
    "plt.ylabel(\"MSE\")"
   ]
  },
  {
   "cell_type": "code",
   "execution_count": 1632,
   "metadata": {},
   "outputs": [
    {
     "data": {
      "text/plain": [
       "606.6513457001154"
      ]
     },
     "execution_count": 1632,
     "metadata": {},
     "output_type": "execute_result"
    }
   ],
   "source": [
    "min(MSE)"
   ]
  },
  {
   "cell_type": "markdown",
   "metadata": {},
   "source": [
    "#### Calculo las predicciones con los pesos obtenidos:"
   ]
  },
  {
   "cell_type": "code",
   "execution_count": 1633,
   "metadata": {},
   "outputs": [],
   "source": [
    "y_pred = w1 * X**3 + w2 * X**2 + w1 * X + b1"
   ]
  },
  {
   "cell_type": "markdown",
   "metadata": {},
   "source": [
    "Grafico y e y_pred"
   ]
  },
  {
   "cell_type": "code",
   "execution_count": 1634,
   "metadata": {},
   "outputs": [
    {
     "data": {
      "image/png": "[encoded data removed]",
      "text/plain": [
       "<Figure size 360x360 with 1 Axes>"
      ]
     },
     "metadata": {
      "needs_background": "light"
     },
     "output_type": "display_data"
    }
   ],
   "source": [
    "\n",
    "plt.figure(figsize=[5,5])\n",
    "plt.scatter(X, y, 1) # Función original\n",
    "plt.scatter(X, y_pred,1, 'r') # Predicción\n",
    "plt.legend(['y', 'y_pred'])\n",
    "plt.show()"
   ]
  },
  {
   "cell_type": "markdown",
   "metadata": {},
   "source": [
    "#### Conclusión: El modelo está haciendo underfitting. Esto sucede porque el modelo implementa un poliomio de grado 3 que no es suficiente como para representar una función con la complejidad que tiene la función de entrada. Como consencuencia, el error se mantiene a un nivel alto aun aumentando las epochs."
   ]
  }
 ],
 "metadata": {
  "kernelspec": {
   "display_name": "Python 3.10.2 64-bit",
   "language": "python",
   "name": "python3"
  },
  "language_info": {
   "codemirror_mode": {
    "name": "ipython",
    "version": 3
   },
   "file_extension": ".py",
   "mimetype": "text/x-python",
   "name": "python",
   "nbconvert_exporter": "python",
   "pygments_lexer": "ipython3",
   "version": "3.10.2"
  },
  "orig_nbformat": 4,
  "vscode": {
   "interpreter": {
    "hash": "aee8b7b246df8f9039afb4144a1f6fd8d2ca17a180786b69acc140d282b71a49"
   }
  }
 },
 "nbformat": 4,
 "nbformat_minor": 2
}
